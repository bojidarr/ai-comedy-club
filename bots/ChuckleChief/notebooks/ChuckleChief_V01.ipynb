{
 "cells": [
  {
   "cell_type": "markdown",
   "id": "psjdri22eqKM",
   "metadata": {
    "id": "psjdri22eqKM"
   },
   "source": [
    "### Project Description"
   ]
  },
  {
   "cell_type": "markdown",
   "id": "ij-sfuapeqKR",
   "metadata": {
    "id": "ij-sfuapeqKR"
   },
   "source": [
    "Humour, even for us humans, can be mysterious. It is no wonder that it poses a unique challenge for AI systems as well. Let us think about it - we all have that one friend who effortlessly brings laughter into our lives. They have a natural knack for timing, delivery, and a deep understanding of what makes something funny. But have we ever tried to explain why they are funny?\n",
    "\n",
    "In this project, we aim to tackle the challenging task of creating an AI bot that excels in generating new jokes. This task is particularly difficult due to the complexities of humour. Humour is subjective and context-dependent, making it challenging for an AI system to understand and replicate effectively.\n",
    "\n",
    "Additionally, jokes often rely on wordplay, sarcasm, and cultural references, which further complicates the task of generating original and funny jokes. Despite these challenges, we are determined to push the boundaries of AI and humour, striving to create a bot that can bring joy and laughter to users worldwide.\n",
    "\n",
    "Meet **ChuckleChief**, our enthusiastic and curious novice AI companion, eager to unravel the mysteries of humour."
   ]
  },
  {
   "cell_type": "markdown",
   "id": "Tj_evBmfQtyW",
   "metadata": {
    "id": "Tj_evBmfQtyW"
   },
   "source": [
    "### Install and Import Dependencies"
   ]
  },
  {
   "cell_type": "code",
   "execution_count": null,
   "id": "yxSNKfONQtJV",
   "metadata": {
    "colab": {
     "base_uri": "https://localhost:8080/"
    },
    "id": "yxSNKfONQtJV",
    "outputId": "80f5fb04-526d-4bbb-868d-383e19a9a148"
   },
   "outputs": [],
   "source": [
    "!pip install accelerate -U better_profanity datasets transformers"
   ]
  },
  {
   "cell_type": "code",
   "execution_count": null,
   "id": "e_p9tv2HSfH-",
   "metadata": {
    "colab": {
     "base_uri": "https://localhost:8080/"
    },
    "id": "e_p9tv2HSfH-",
    "outputId": "a8e67303-d0f3-4587-f99b-c71f3fdd733c"
   },
   "outputs": [],
   "source": [
    "import nltk\n",
    "nltk.download([\"stopwords\", \"wordnet\"])"
   ]
  },
  {
   "cell_type": "code",
   "execution_count": null,
   "id": "a68ed353-4b1a-4468-896f-eb1e7b230b32",
   "metadata": {
    "id": "a68ed353-4b1a-4468-896f-eb1e7b230b32"
   },
   "outputs": [],
   "source": [
    "import json\n",
    "import os\n",
    "import random\n",
    "import re\n",
    "\n",
    "import better_profanity as bp\n",
    "import numpy as np\n",
    "import pandas as pd\n",
    "from nltk.corpus import stopwords\n",
    "from nltk.stem import WordNetLemmatizer\n",
    "import torch\n",
    "from tqdm import tqdm\n",
    "from transformers import (\n",
    "    AdamW,\n",
    "    AutoConfig,\n",
    "    DataCollatorForLanguageModeling,\n",
    "    GPT2LMHeadModel,\n",
    "    GPT2Tokenizer,\n",
    "    Trainer,\n",
    "    TrainingArguments\n",
    ")\n",
    "\n",
    "from datasets import Dataset"
   ]
  },
  {
   "cell_type": "code",
   "execution_count": null,
   "id": "c0RIbBP9e4oU",
   "metadata": {
    "colab": {
     "base_uri": "https://localhost:8080/"
    },
    "id": "c0RIbBP9e4oU",
    "outputId": "cd07f1a2-4cd6-4158-d952-cd65a2f5c89d"
   },
   "outputs": [],
   "source": [
    "from google.colab import drive\n",
    "drive.mount(\"/content/drive/\")"
   ]
  },
  {
   "cell_type": "markdown",
   "id": "0c497e9d-1e4f-4aa8-8638-404c00da99fa",
   "metadata": {
    "id": "0c497e9d-1e4f-4aa8-8638-404c00da99fa"
   },
   "source": [
    "### Load the Data"
   ]
  },
  {
   "cell_type": "markdown",
   "id": "c45e7d7c-14fb-4388-855f-711e8713a16d",
   "metadata": {
    "id": "c45e7d7c-14fb-4388-855f-711e8713a16d"
   },
   "source": [
    "| Dataset Name | Description | Source | Number of Jokes | Format |\n",
    "| --- | --- | --- | --- | --- |\n",
    "| Short Jokes | A collection of short jokes in English | Kaggle | 231,657 | CSV |\n",
    "| Joke Dataset - Stupidstuff | A dataset of English plaintext jokes from stupidstuff.org | GitHub | 3,770 | JSON |\n",
    "| Joke Dataset - Wocka | A dataset of English plaintext jokes from wocka.com | GitHub | 10,000 | JSON |\n",
    "\n",
    "The Short Jokes dataset from Kaggle is a large collection of short jokes in English that includes both one-liners and longer jokes. The dataset contains 231,657 jokes in CSV format.\n",
    "\n",
    "The Joke Dataset from taivop/joke-dataset on GitHub includes two separate datasets: Stupidstuff and Wocka. The Stupidstuff dataset contains 3,770 English plaintext jokes scraped from stupidstuff.org, while the Wocka dataset contains 10,000 English plaintext jokes scraped from wocka.com. Both datasets are in JSON format and contain additional fields such as category, title, and rating.\n",
    "\n",
    "Therefore, the total number of jokes in all three datasets combined is 245,427 jokes."
   ]
  },
  {
   "cell_type": "code",
   "execution_count": null,
   "id": "aec60167-c955-41c0-9441-5d16d4f9f1ea",
   "metadata": {
    "execution": {
     "iopub.execute_input": "2023-07-29T04:33:19.776294Z",
     "iopub.status.busy": "2023-07-29T04:33:19.775410Z",
     "iopub.status.idle": "2023-07-29T04:33:20.276088Z",
     "shell.execute_reply": "2023-07-29T04:33:20.275043Z",
     "shell.execute_reply.started": "2023-07-29T04:33:19.776251Z"
    },
    "id": "aec60167-c955-41c0-9441-5d16d4f9f1ea"
   },
   "outputs": [],
   "source": [
    "def load_joke_data():\n",
    "    \"\"\"Load joke data\"\"\"\n",
    "    short_jokes_df = pd.read_csv(\"short_jokes.csv\")\n",
    "\n",
    "    with open(\"stupidstuff.json\", \"r\") as file:\n",
    "        stupidstuff = json.load(file)\n",
    "    stupidstuff_df = pd.DataFrame(stupidstuff, columns=[\"id\", \"body\", \"category\"])\n",
    "\n",
    "    with open(\"wocka.json\", \"r\") as file:\n",
    "        wocka = json.load(file)\n",
    "    wocka_df = pd.DataFrame(wocka, columns=[\"id\", \"title\", \"body\", \"category\"])\n",
    "\n",
    "    return short_jokes_df, stupidstuff_df, wocka_df\n",
    "\n",
    "\n",
    "short_jokes_df, stupidstuff_df, wocka_df = load_joke_data()"
   ]
  },
  {
   "cell_type": "code",
   "execution_count": null,
   "id": "31e0a485-1c6d-44ca-a5ff-1a41735f27c2",
   "metadata": {
    "colab": {
     "base_uri": "https://localhost:8080/",
     "height": 112
    },
    "id": "31e0a485-1c6d-44ca-a5ff-1a41735f27c2",
    "outputId": "d0378118-49df-4b3c-fbab-9e8b9c2702d1"
   },
   "outputs": [],
   "source": [
    "short_jokes_df.head(2)"
   ]
  },
  {
   "cell_type": "code",
   "execution_count": null,
   "id": "7d1f7077-aeaa-4104-806f-ec9d1123531a",
   "metadata": {
    "colab": {
     "base_uri": "https://localhost:8080/",
     "height": 112
    },
    "id": "7d1f7077-aeaa-4104-806f-ec9d1123531a",
    "outputId": "5ff1bc6b-a5c3-429c-9527-0597fb697827"
   },
   "outputs": [],
   "source": [
    "stupidstuff_df.head(2)"
   ]
  },
  {
   "cell_type": "code",
   "execution_count": null,
   "id": "5543b6b8-a0e6-4a1a-88e8-cd9693425120",
   "metadata": {
    "colab": {
     "base_uri": "https://localhost:8080/",
     "height": 112
    },
    "id": "5543b6b8-a0e6-4a1a-88e8-cd9693425120",
    "outputId": "54f5c516-a314-43f7-b93c-77e0f56be35e"
   },
   "outputs": [],
   "source": [
    "wocka_df.head(2)"
   ]
  },
  {
   "cell_type": "markdown",
   "id": "cdc6c537-19ba-4419-83b6-e00c9dd07c82",
   "metadata": {
    "id": "cdc6c537-19ba-4419-83b6-e00c9dd07c82"
   },
   "source": [
    "### Preprocess Data"
   ]
  },
  {
   "cell_type": "markdown",
   "id": "581e2074-d2c2-4565-aff5-b85ccef6ab14",
   "metadata": {
    "id": "581e2074-d2c2-4565-aff5-b85ccef6ab14"
   },
   "source": [
    "- Remove punctuation.\n",
    "- Remove non-alphabetical characters.\n",
    "- Remove numbers.\n",
    "- Convert to lowercase.\n",
    "- Strip leading/trailing whitespace.\n",
    "- Remove newlines and carriage returns.\n",
    "- Check if the joke is clean."
   ]
  },
  {
   "cell_type": "code",
   "execution_count": null,
   "id": "1ba9dee6-62ee-47e6-af98-8c7a673b4778",
   "metadata": {
    "execution": {
     "iopub.execute_input": "2023-07-29T04:33:20.328105Z",
     "iopub.status.busy": "2023-07-29T04:33:20.327492Z",
     "iopub.status.idle": "2023-07-29T04:33:20.338133Z",
     "shell.execute_reply": "2023-07-29T04:33:20.337087Z",
     "shell.execute_reply.started": "2023-07-29T04:33:20.328064Z"
    },
    "id": "1ba9dee6-62ee-47e6-af98-8c7a673b4778"
   },
   "outputs": [],
   "source": [
    "def preprocess_joke(joke):\n",
    "    \"\"\"Preprocess jokes\"\"\"\n",
    "    joke = re.sub(r\"[^\\w\\s]\", \"\", joke)\n",
    "    joke = re.sub(r\"[^a-zA-Z\\s]\", \"\", joke)\n",
    "    joke = re.sub(\"\\d\", \"\", joke)\n",
    "    joke = joke.lower()\n",
    "    joke = joke.strip()\n",
    "    joke = joke.replace(\"\\n\", \" \").replace(\"\\r\", \"\")\n",
    "\n",
    "    return joke"
   ]
  },
  {
   "cell_type": "code",
   "execution_count": null,
   "id": "4e967a4d-a2f9-4a15-a3b3-5c9b33e6f920",
   "metadata": {
    "execution": {
     "iopub.execute_input": "2023-07-29T04:33:45.502748Z",
     "iopub.status.busy": "2023-07-29T04:33:45.502347Z",
     "iopub.status.idle": "2023-07-29T04:33:49.286588Z",
     "shell.execute_reply": "2023-07-29T04:33:49.285574Z",
     "shell.execute_reply.started": "2023-07-29T04:33:45.502712Z"
    },
    "id": "4e967a4d-a2f9-4a15-a3b3-5c9b33e6f920"
   },
   "outputs": [],
   "source": [
    "short_jokes_df[\"Joke\"] = short_jokes_df[\"Joke\"].apply(preprocess_joke)\n",
    "stupidstuff_df[\"body\"] = stupidstuff_df[\"body\"].apply(preprocess_joke)\n",
    "wocka_df[\"body\"] = wocka_df[\"body\"].apply(preprocess_joke)"
   ]
  },
  {
   "cell_type": "code",
   "execution_count": null,
   "id": "b47ebfce-749a-4c4d-80cc-0d0380c7d759",
   "metadata": {
    "colab": {
     "base_uri": "https://localhost:8080/"
    },
    "id": "b47ebfce-749a-4c4d-80cc-0d0380c7d759",
    "outputId": "70e2e01b-f65f-4a4a-ac71-e66213eb8f5a"
   },
   "outputs": [],
   "source": [
    "short_jokes_df.shape, stupidstuff_df.shape, wocka_df.shape"
   ]
  },
  {
   "cell_type": "code",
   "execution_count": null,
   "id": "fe02d5a3-5ed8-4223-8bd3-daa6ebadf2b9",
   "metadata": {
    "execution": {
     "iopub.execute_input": "2023-07-29T04:33:55.049373Z",
     "iopub.status.busy": "2023-07-29T04:33:55.048810Z",
     "iopub.status.idle": "2023-07-29T04:33:55.073370Z",
     "shell.execute_reply": "2023-07-29T04:33:55.072049Z",
     "shell.execute_reply.started": "2023-07-29T04:33:55.049345Z"
    },
    "id": "fe02d5a3-5ed8-4223-8bd3-daa6ebadf2b9"
   },
   "outputs": [],
   "source": [
    "all_jokes = (\n",
    "    short_jokes_df[\"Joke\"].tolist()\n",
    "    + stupidstuff_df[\"body\"].tolist()\n",
    "    + wocka_df[\"body\"].tolist()\n",
    ")"
   ]
  },
  {
   "cell_type": "code",
   "execution_count": null,
   "id": "56dfd512-5240-4d25-a4a4-1204bd194f02",
   "metadata": {
    "colab": {
     "base_uri": "https://localhost:8080/"
    },
    "id": "56dfd512-5240-4d25-a4a4-1204bd194f02",
    "outputId": "d0dd0558-e68f-4cf8-857a-01182f0adb98"
   },
   "outputs": [],
   "source": [
    "print(len(all_jokes))"
   ]
  },
  {
   "cell_type": "code",
   "execution_count": null,
   "id": "rHTKMjV4eqKa",
   "metadata": {
    "execution": {
     "iopub.execute_input": "2023-07-29T04:33:56.523274Z",
     "iopub.status.busy": "2023-07-29T04:33:56.522900Z",
     "iopub.status.idle": "2023-07-29T04:33:56.534774Z",
     "shell.execute_reply": "2023-07-29T04:33:56.533780Z",
     "shell.execute_reply.started": "2023-07-29T04:33:56.523242Z"
    },
    "id": "rHTKMjV4eqKa"
   },
   "outputs": [],
   "source": [
    "def sample_jokes(all_jokes, n):\n",
    "    \"\"\"Sample jokes\"\"\"\n",
    "    joke_indexes = np.random.randint(0, len(all_jokes), n)\n",
    "    sampled_jokes = [all_jokes[index] for index in joke_indexes]\n",
    "    return sampled_jokes\n",
    "\n",
    "sampled_15000_jokes = sample_jokes(all_jokes, 15000)"
   ]
  },
  {
   "cell_type": "code",
   "execution_count": null,
   "id": "65c40035-5134-4647-ad67-a5816db1cec7",
   "metadata": {
    "id": "65c40035-5134-4647-ad67-a5816db1cec7"
   },
   "outputs": [],
   "source": [
    "def is_clean(joke):\n",
    "    \"\"\"Check if a joke is clean\"\"\"\n",
    "    if bp.profanity.contains_profanity(joke):\n",
    "        return False\n",
    "    else:\n",
    "        return True"
   ]
  },
  {
   "cell_type": "code",
   "execution_count": null,
   "id": "35f9dba4-968a-4ff0-baf6-ca4bc67a2a68",
   "metadata": {
    "id": "35f9dba4-968a-4ff0-baf6-ca4bc67a2a68"
   },
   "outputs": [],
   "source": [
    "def filter_jokes(jokes):\n",
    "    \"\"\"Filter out offensive jokes\"\"\"\n",
    "    clean_jokes = []\n",
    "    for joke in tqdm(jokes):\n",
    "        if is_clean(joke):\n",
    "            clean_jokes.append(joke)\n",
    "    return clean_jokes\n",
    "\n",
    "clean_jokes = filter_jokes(sampled_15000_jokes)"
   ]
  },
  {
   "cell_type": "code",
   "execution_count": null,
   "id": "1-p5dncpeqKb",
   "metadata": {
    "id": "1-p5dncpeqKb",
    "outputId": "dab6e215-1161-49c8-b13c-56c3d22189bb"
   },
   "outputs": [],
   "source": [
    "len(clean_jokes)"
   ]
  },
  {
   "cell_type": "code",
   "execution_count": null,
   "id": "4_I2is5ReqKb",
   "metadata": {
    "id": "4_I2is5ReqKb"
   },
   "outputs": [],
   "source": [
    "clean_jokes_df = pd.DataFrame(clean_jokes, columns=[\"jokes\"])\n",
    "clean_jokes_df.to_csv(\"clean_jokes_new.csv\", index=False)"
   ]
  },
  {
   "cell_type": "code",
   "execution_count": null,
   "id": "BYMD20zceqKb",
   "metadata": {
    "id": "BYMD20zceqKb"
   },
   "outputs": [],
   "source": [
    "clean_jokes_df = pd.read_csv(\"clean_jokes_new.csv\")\n",
    "clean_jokes_df.dropna(inplace=True)"
   ]
  },
  {
   "cell_type": "code",
   "execution_count": null,
   "id": "f1ee67d7-8712-406f-97c1-0cd6a197128b",
   "metadata": {
    "id": "f1ee67d7-8712-406f-97c1-0cd6a197128b"
   },
   "outputs": [],
   "source": [
    "def get_subset(jokes_df, n):\n",
    "    \"\"\"Get data subset\"\"\"\n",
    "    clean_jokes = [\n",
    "        str(joke).strip() for joke in jokes_df[\"jokes\"] if len(str(joke).strip()) >= 10\n",
    "    ]\n",
    "    random_jokes = random.sample(clean_jokes, n)\n",
    "    subset_df = pd.DataFrame(random_jokes, columns=[\"jokes\"])\n",
    "    return subset_df"
   ]
  },
  {
   "cell_type": "code",
   "execution_count": null,
   "id": "ad9795db-e2e8-479f-bcef-4af35ef1c880",
   "metadata": {
    "id": "ad9795db-e2e8-479f-bcef-4af35ef1c880"
   },
   "outputs": [],
   "source": [
    "def split_data(jokes_df, train_size=0.8, val_size=0.1, test_size=0.1):\n",
    "    \"\"\"Split data\"\"\"\n",
    "    total_size = len(jokes_df)\n",
    "\n",
    "    # Calculate the number of examples for each set.\n",
    "    train_num = int(train_size * total_size)\n",
    "    val_num = int(val_size * total_size)\n",
    "    test_num = int(test_size * total_size)\n",
    "\n",
    "    all_indices = np.arange(total_size)\n",
    "    train_indices = np.random.choice(all_indices, train_num, replace=False)\n",
    "    val_indices = np.random.choice(\n",
    "        np.setdiff1d(all_indices, train_indices), val_num, replace=False\n",
    "    )\n",
    "    test_indices = np.setdiff1d(\n",
    "        all_indices, np.concatenate([train_indices, val_indices])\n",
    "    )\n",
    "\n",
    "    # Split data based on indices.\n",
    "    train_df = jokes_df.iloc[train_indices]\n",
    "    val_df = jokes_df.iloc[val_indices]\n",
    "    test_df = jokes_df.iloc[test_indices]\n",
    "\n",
    "    return train_df, val_df, test_df"
   ]
  },
  {
   "cell_type": "markdown",
   "id": "9bcedc6e-00a7-4a54-bd2c-9dcf836a02b9",
   "metadata": {
    "id": "9bcedc6e-00a7-4a54-bd2c-9dcf836a02b9"
   },
   "source": [
    "### Model Comparison\n",
    "\n",
    "- `bert-base-uncased`: BERT (Bidirectional Encoder Representations from Transformers) is a widely-used transformer-based model that has achieved state-of-the-art performance on various natural language processing tasks. The \"base\" variant refers to its medium-sized configuration, offering a balance between model size and performance. \"uncased\" indicates that the model treats all text as lowercase, disregarding capitalization. BERT incorporates a deep bidirectional transformer encoder, capturing contextual information from both preceding and following words. It is pretrained on a large corpus and can be fine-tuned for specific tasks.\n",
    "\n",
    "- `distilbert-base-uncased`: DistilBERT is a distilled version of BERT, striking a good balance between performance and efficiency. It retains competitive performance while being smaller and faster than the original BERT model. Like BERT, \"uncased\" signifies that the model operates with lowercase text. DistilBERT achieves efficiency gains through techniques such as knowledge distillation and parameter reduction. Its reduced size makes it more manageable and quicker to fine-tune, particularly in scenarios with limited computational resources or smaller training datasets.  \n",
    "\n",
    "- `gpt-2`: GPT-2 (Generative Pre-trained Transformer 2) is a cutting-edge language model explicitly designed for text generation tasks. Renowned for its ability to produce high-quality and coherent text, GPT-2 is particularly well-suited for joke generation. Built upon a transformer architecture with a substantial number of parameters, GPT-2 captures long-range dependencies in input text effectively.\n",
    "\n",
    "We will start with fine-tuning `gpt-2 (124M parameter)` model for joke generation."
   ]
  },
  {
   "cell_type": "markdown",
   "id": "YU9xP9xyeqKc",
   "metadata": {
    "id": "YU9xP9xyeqKc"
   },
   "source": [
    "### Load Model and Tokeniser"
   ]
  },
  {
   "cell_type": "code",
   "execution_count": null,
   "id": "W5ADFwD0e9qj",
   "metadata": {
    "colab": {
     "base_uri": "https://localhost:8080/",
     "height": 177,
     "referenced_widgets": [
      "d421852d08644792a68078fdb44e19db",
      "5cb149c683d645ea89dc6a22607877a1",
      "647edb84373849c088621104bab11b9c",
      "7f6a45710d8f46b5b2a69f7cd496e9ae",
      "714d5ae5b31044c4867c6a76e0521d5c",
      "8d5ca49299de41e09ffc91b44c25d150",
      "2cd5ccc093654e3c9b9b863f187f8387",
      "8e2c37e9c9e446a6b16083ef9c2ba46b",
      "3c92441bde3942588c6554022e232b7d",
      "ccb7be982ccb478fb151f55158198677",
      "0aa0d25f9a004449b2905c1717198290",
      "66403a24a9e04e2d84037d9ebd36230b",
      "610fcf33109946c49c677ab042d12619",
      "e40d9a9cc37948818065411870cd6de5",
      "5bccfc183acf4f8888024b1c99fc0ad9",
      "5733774b181d4850a0789bf3272e5ae5",
      "a31c67ebea974004854befb317203c82",
      "b728e5e94a304ba2a144fd4bc8359998",
      "4df102f971f64b8b8a41f02276cbe1e1",
      "c9cd691a5d7749d1b560e0987a7e0bf8",
      "b675fe90dbde4dee8d98beaac22fa794",
      "8ec994f4830c4eeabbd4e924e60762e8",
      "536d7ac6c1144471971f0f316c29e3cb",
      "6ef62b69ede0432e96a3ffed86867764",
      "2e6f605d36134a1196066b97e15d7917",
      "e8e35271b1e5436bbe6766f9da3f2ff0",
      "1f7a334ded05481aacd85a5eda1314ef",
      "88dd6506274241c096c5efbddd31d30d",
      "3135d6ab6ddb4a0cabcc0abc0cbbea75",
      "e04df6aed2ed47688286396ad0759d03",
      "3f40457c4345491286ff3e5eb9a8fa28",
      "958b1c54df9e44759fc609e1c72f8122",
      "26c031ced94a4186b51d00ae94a528ff",
      "19f9bb0b0aea478da0ddbe9fd26f7906",
      "8816e9e694034b189c276a8924ad599f",
      "f0a14221b1914725b783d4979af683c5",
      "2be37fc169da4cf18b15041612c332fe",
      "17599965819e4e5ca17da8938adfc0c1",
      "736ac08040fe4ea796fc27bb08d96d10",
      "018d488138ab4cd489d4c65c730ddfa9",
      "dddb5076b8564500a3f2f44090ffa9e1",
      "5b7e18aaefc74cc89395606e681313ee",
      "a73b2eac79374ea783a9147b32f292bf",
      "d1b2d78b233340f4a8d6e4143980f534",
      "8011dd4f71854cbca7407c1836cea6aa",
      "c10cc1cf7f834c6bbec4be8f3ecc6212",
      "e806166bdd2a4aeeb598be317af59627",
      "288d7a18fa8e4889b464ba38dc5dbf18",
      "71b1492d60d141aa8e34e5c46d8c3798",
      "4da3f2ebb1c249649c6520beeeb179c1",
      "9d8fea31cefa40abb2d56f0753e4b182",
      "7eee9ebed69146ac856695dce63efb6a",
      "2054ead15d8c4156b380684c15f97963",
      "89b1e14624fb45968b08b4a2bb6beaea",
      "0c59bb54bd10488a8e254c816f4eb38b"
     ]
    },
    "id": "W5ADFwD0e9qj",
    "outputId": "73163ba7-a962-4bb1-e4e0-77b7ea054819"
   },
   "outputs": [],
   "source": [
    "model = GPT2LMHeadModel.from_pretrained(\"gpt2\")\n",
    "tokeniser = GPT2Tokenizer.from_pretrained(\"gpt2\")"
   ]
  },
  {
   "cell_type": "code",
   "execution_count": null,
   "id": "pgkx-7C0j4N7",
   "metadata": {
    "colab": {
     "base_uri": "https://localhost:8080/"
    },
    "id": "pgkx-7C0j4N7",
    "outputId": "5200ea86-8a2a-4ed9-c022-1c8b22f4b0a0"
   },
   "outputs": [],
   "source": [
    "print(f\"The model has {sum(p.numel() for p in model.parameters()):,} trainable parameters\")"
   ]
  },
  {
   "cell_type": "code",
   "execution_count": null,
   "id": "9scXm5Qb13Nq",
   "metadata": {
    "colab": {
     "base_uri": "https://localhost:8080/"
    },
    "id": "9scXm5Qb13Nq",
    "outputId": "5828b1cd-da91-4f88-9493-179d7bd3e1ed",
    "scrolled": true
   },
   "outputs": [],
   "source": [
    "# Access the transformer layers.\n",
    "transformer_layers = model.transformer.h\n",
    "\n",
    "# Print the information about each layer.\n",
    "for i, layer in enumerate(transformer_layers):\n",
    "    print(f\"Layer {i}: {layer}\")"
   ]
  },
  {
   "cell_type": "code",
   "execution_count": null,
   "id": "t24BSSrT2SH_",
   "metadata": {
    "id": "t24BSSrT2SH_"
   },
   "outputs": [],
   "source": [
    "# # Set the number of layers to train.\n",
    "# num_layers_to_train = 4\n",
    "\n",
    "# # Freeze all layers.\n",
    "# for layer in model.transformer.h:\n",
    "#     for param in layer.parameters():\n",
    "#         param.requires_grad = False\n",
    "\n",
    "# # Enable gradient computation for the top layers.\n",
    "# for i, layer in enumerate(model.transformer.h[-num_layers_to_train:]):\n",
    "#     for param in layer.parameters():\n",
    "#         param.requires_grad = True"
   ]
  },
  {
   "cell_type": "markdown",
   "id": "Kc1FmqOFeqKd",
   "metadata": {
    "id": "Kc1FmqOFeqKd"
   },
   "source": [
    "### Add Custom Tokens"
   ]
  },
  {
   "cell_type": "code",
   "execution_count": null,
   "id": "750c8a5a-9467-438c-a14d-c88f7633772f",
   "metadata": {
    "colab": {
     "base_uri": "https://localhost:8080/"
    },
    "id": "750c8a5a-9467-438c-a14d-c88f7633772f",
    "outputId": "b97c0869-caef-466b-d301-6c2c25277638"
   },
   "outputs": [],
   "source": [
    "bos = \"<|endoftext|>\"  # Beginning of sequence token\n",
    "eos = \"<|eos|>\"        # End of sequence token\n",
    "pad = \"<|pad|>\"        # Padding token\n",
    "\n",
    "special_tokens = {\"bos_token\": bos, \"eos_token\": eos, \"pad_token\": pad}\n",
    "\n",
    "# Add custom tokens to the tokeniser.\n",
    "new_tokens = tokeniser.add_special_tokens(special_tokens)\n",
    "\n",
    "# Model config with custom tokens.\n",
    "config = AutoConfig.from_pretrained(\n",
    "    \"gpt2\",\n",
    "    bos_token_id=tokeniser.bos_token_id,\n",
    "    eos_token_id=tokeniser.eos_token_id,\n",
    "    pad_token_id=tokeniser.pad_token_id,\n",
    "    output_hidden_states=False\n",
    ")\n",
    "\n",
    "# Load model with config.\n",
    "model = GPT2LMHeadModel.from_pretrained(\"gpt2\", config=config)\n",
    "\n",
    "# Resize embeddings to include new tokens.\n",
    "model.resize_token_embeddings(len(tokeniser))"
   ]
  },
  {
   "cell_type": "markdown",
   "id": "JGudTjGe0tuB",
   "metadata": {
    "id": "JGudTjGe0tuB"
   },
   "source": [
    "### Define a Helper Function to Generate Jokes"
   ]
  },
  {
   "cell_type": "code",
   "execution_count": null,
   "id": "PRPrh1ioY5b5",
   "metadata": {
    "id": "PRPrh1ioY5b5"
   },
   "outputs": [],
   "source": [
    "def generate_jokes(model, tokeniser, prompt, num_jokes=3, max_len=30):\n",
    "    filtered_jokes = []\n",
    "\n",
    "    while len(filtered_jokes) < num_jokes:\n",
    "        input_ids = tokeniser.encode(prompt, return_tensors=\"pt\")\n",
    "        generated_text_samples = model.generate(\n",
    "            input_ids,\n",
    "            max_length=max_len,\n",
    "            num_return_sequences=num_jokes,\n",
    "            repetition_penalty=1.5,\n",
    "            temperature=0.75,\n",
    "            do_sample=True\n",
    "        )\n",
    "\n",
    "        generated_jokes = [\n",
    "            tokeniser.decode(joke, skip_special_tokens=True)\n",
    "            for joke in generated_text_samples\n",
    "        ]\n",
    "\n",
    "        # Apply filter to keep only inoffensive jokes.\n",
    "        for joke in generated_jokes:\n",
    "            if is_clean(joke):\n",
    "                filtered_jokes.append(joke)\n",
    "\n",
    "    return filtered_jokes"
   ]
  },
  {
   "cell_type": "code",
   "execution_count": null,
   "id": "67582d5c-d43f-4d5d-b0aa-88f6e1191449",
   "metadata": {
    "colab": {
     "base_uri": "https://localhost:8080/"
    },
    "id": "67582d5c-d43f-4d5d-b0aa-88f6e1191449",
    "outputId": "5b8b8e13-830f-437e-ad30-f460775cc64b"
   },
   "outputs": [],
   "source": [
    "clean_jokes_subset = get_subset(clean_jokes_df, 11000)\n",
    "train_df, val_df, test_df = split_data(clean_jokes_subset)\n",
    "train_df.shape, val_df.shape, test_df.shape"
   ]
  },
  {
   "cell_type": "code",
   "execution_count": null,
   "id": "c60f245d-8852-465e-9d64-98344abb9d12",
   "metadata": {
    "id": "c60f245d-8852-465e-9d64-98344abb9d12"
   },
   "outputs": [],
   "source": [
    "train_jokes = Dataset.from_pandas(train_df[[\"jokes\"]])\n",
    "val_jokes = Dataset.from_pandas(val_df[[\"jokes\"]])"
   ]
  },
  {
   "cell_type": "markdown",
   "id": "zso_3em-1LRX",
   "metadata": {
    "id": "zso_3em-1LRX"
   },
   "source": [
    "### Tokenise and Pad Data"
   ]
  },
  {
   "cell_type": "code",
   "execution_count": null,
   "id": "7c6f0ecb-c357-4dd9-a4be-cc2c14577a90",
   "metadata": {
    "colab": {
     "base_uri": "https://localhost:8080/",
     "height": 81,
     "referenced_widgets": [
      "d23573a471a7439da5fbb7a767749683",
      "5c772df07ce64d81956410d2642f582c",
      "955f9be26fbe486c9e5faef745cce8e5",
      "a2a9c5ebcd8f4d2bb815727d3834510a",
      "0ffe442536fb4514b593e437c8fcf9ef",
      "dc18c181dc284844a0405b4304b6985e",
      "3271476eab7f40d896ab5d368c27fbb8",
      "945f4b490e4d43f98ef444e055d8f17a",
      "cd777e6708e74a04bb1caae9303378d4",
      "62f0b3b9c59444a69d2dcedc81b76f15",
      "3558df8190c04ac6b1d92875ee916ab8",
      "62eead3fcc14433f86c1f5afb8010a75",
      "8928e11de7de46319691ca2ee46dd39a",
      "63bf55de883c4328a49411040056f1f9",
      "b3ea405c0e6746b5b0c0a86da7af662c",
      "4e8ba4d842334ee79b93e69dec95829e",
      "af74ccc61f5c4fc6a1cd6cc817f06c60",
      "3201c90605fc428591c8a3ac26b59535",
      "f3f92dfee8934a6db6fb85f091d395cb",
      "e890b19d9ed748ffa250e9bec06f92af",
      "636ba4a068524a13a8373e02b3c86859",
      "f9fd1ce2144044408688a8be8b80ba70"
     ]
    },
    "id": "7c6f0ecb-c357-4dd9-a4be-cc2c14577a90",
    "outputId": "e338735c-9a4d-4572-ac0c-706b203a698e"
   },
   "outputs": [],
   "source": [
    "tokenised_train_jokes = train_jokes.map(\n",
    "    lambda x: tokeniser(x[\"jokes\"], padding=True),\n",
    "    batched=True\n",
    ")\n",
    "\n",
    "tokenised_val_jokes = val_jokes.map(\n",
    "    lambda x: tokeniser(x[\"jokes\"], padding=True),\n",
    "    batched=True\n",
    ")"
   ]
  },
  {
   "cell_type": "markdown",
   "id": "NxP-jaPD1WsH",
   "metadata": {
    "id": "NxP-jaPD1WsH"
   },
   "source": [
    "### Set up the Training Arguments and Data Collator"
   ]
  },
  {
   "cell_type": "code",
   "execution_count": null,
   "id": "8eb674eb-68eb-4f85-8f50-d6a016e5b3dd",
   "metadata": {
    "id": "8eb674eb-68eb-4f85-8f50-d6a016e5b3dd"
   },
   "outputs": [],
   "source": [
    "model_path = \"./ChuckleChief\"\n",
    "\n",
    "training_args = TrainingArguments(\n",
    "    output_dir=model_path,\n",
    "    num_train_epochs=2,\n",
    "    per_device_train_batch_size=4,\n",
    "    per_device_eval_batch_size=4,\n",
    "    learning_rate=1e-5,\n",
    "    logging_dir=model_path,\n",
    "    prediction_loss_only=True,\n",
    "    evaluation_strategy=\"epoch\",\n",
    "    save_strategy=\"epoch\"\n",
    ")\n",
    "\n",
    "data_collator = DataCollatorForLanguageModeling(tokenizer=tokeniser, mlm=False)"
   ]
  },
  {
   "cell_type": "markdown",
   "id": "OSs2zO4keqKk",
   "metadata": {
    "id": "OSs2zO4keqKk"
   },
   "source": [
    "### Train the Model"
   ]
  },
  {
   "cell_type": "code",
   "execution_count": null,
   "id": "XQOEzsBOmd79",
   "metadata": {
    "id": "XQOEzsBOmd79"
   },
   "outputs": [],
   "source": [
    "torch.cuda.empty_cache()"
   ]
  },
  {
   "cell_type": "code",
   "execution_count": 25,
   "id": "4DMR3qDDgMBU",
   "metadata": {
    "colab": {
     "base_uri": "https://localhost:8080/",
     "height": 225
    },
    "id": "4DMR3qDDgMBU",
    "outputId": "87697c6e-fc69-42e3-8a04-025e50215608"
   },
   "outputs": [
    {
     "data": {
      "text/html": [
       "\n",
       "    <div>\n",
       "      \n",
       "      <progress value='4400' max='4400' style='width:300px; height:20px; vertical-align: middle;'></progress>\n",
       "      [4400/4400 51:52, Epoch 2/2]\n",
       "    </div>\n",
       "    <table border=\"1\" class=\"dataframe\">\n",
       "  <thead>\n",
       " <tr style=\"text-align: left;\">\n",
       "      <th>Epoch</th>\n",
       "      <th>Training Loss</th>\n",
       "      <th>Validation Loss</th>\n",
       "    </tr>\n",
       "  </thead>\n",
       "  <tbody>\n",
       "    <tr>\n",
       "      <td>1</td>\n",
       "      <td>4.651900</td>\n",
       "      <td>4.469030</td>\n",
       "    </tr>\n",
       "    <tr>\n",
       "      <td>2</td>\n",
       "      <td>4.429600</td>\n",
       "      <td>4.416205</td>\n",
       "    </tr>\n",
       "  </tbody>\n",
       "</table><p>"
      ],
      "text/plain": [
       "<IPython.core.display.HTML object>"
      ]
     },
     "metadata": {},
     "output_type": "display_data"
    },
    {
     "data": {
      "text/plain": [
       "('./ChuckleChief/tokenizer_config.json',\n",
       " './ChuckleChief/special_tokens_map.json',\n",
       " './ChuckleChief/vocab.json',\n",
       " './ChuckleChief/merges.txt',\n",
       " './ChuckleChief/added_tokens.json')"
      ]
     },
     "execution_count": 25,
     "metadata": {},
     "output_type": "execute_result"
    }
   ],
   "source": [
    "trainer = Trainer(\n",
    "    model=model,\n",
    "    args=training_args,\n",
    "    data_collator=data_collator,\n",
    "    train_dataset=tokenised_train_jokes,\n",
    "    eval_dataset=tokenised_val_jokes,\n",
    ")\n",
    "trainer.train()"
   ]
  },
  {
   "cell_type": "markdown",
   "id": "BfhNSHzj1gHC",
   "metadata": {
    "id": "BfhNSHzj1gHC"
   },
   "source": [
    "### Save the Model"
   ]
  },
  {
   "cell_type": "code",
   "execution_count": null,
   "id": "X2_vHobVsUqa",
   "metadata": {
    "colab": {
     "base_uri": "https://localhost:8080/"
    },
    "id": "X2_vHobVsUqa",
    "outputId": "65ec6b54-b3fa-415c-b01b-c8f09c0f65b8"
   },
   "outputs": [],
   "source": [
    "trainer.save_model()\n",
    "tokeniser.save_pretrained(model_path)"
   ]
  },
  {
   "cell_type": "markdown",
   "id": "nJ-_WY2F1k4_",
   "metadata": {
    "id": "nJ-_WY2F1k4_"
   },
   "source": [
    "### Evaluate the Model"
   ]
  },
  {
   "cell_type": "code",
   "execution_count": 26,
   "id": "b1448282-d519-4936-9758-0a86cd0df9f4",
   "metadata": {
    "colab": {
     "base_uri": "https://localhost:8080/",
     "height": 124
    },
    "execution": {
     "iopub.status.busy": "2023-07-29T07:00:47.489878Z",
     "iopub.status.idle": "2023-07-29T07:00:47.490327Z",
     "shell.execute_reply": "2023-07-29T07:00:47.490113Z",
     "shell.execute_reply.started": "2023-07-29T07:00:47.490089Z"
    },
    "id": "b1448282-d519-4936-9758-0a86cd0df9f4",
    "outputId": "bda548af-62b6-4683-c689-c012da924879"
   },
   "outputs": [
    {
     "data": {
      "text/html": [
       "\n",
       "    <div>\n",
       "      \n",
       "      <progress value='275' max='275' style='width:300px; height:20px; vertical-align: middle;'></progress>\n",
       "      [275/275 01:15]\n",
       "    </div>\n",
       "    "
      ],
      "text/plain": [
       "<IPython.core.display.HTML object>"
      ]
     },
     "metadata": {},
     "output_type": "display_data"
    },
    {
     "data": {
      "text/plain": [
       "{'eval_loss': 4.416205406188965,\n",
       " 'eval_runtime': 76.1981,\n",
       " 'eval_samples_per_second': 14.436,\n",
       " 'eval_steps_per_second': 3.609,\n",
       " 'epoch': 2.0}"
      ]
     },
     "execution_count": 26,
     "metadata": {},
     "output_type": "execute_result"
    }
   ],
   "source": [
    "trainer.evaluate()"
   ]
  },
  {
   "cell_type": "markdown",
   "id": "gWbvqsGa1n7Y",
   "metadata": {
    "id": "gWbvqsGa1n7Y"
   },
   "source": [
    "### Generate Jokes"
   ]
  },
  {
   "cell_type": "code",
   "execution_count": null,
   "id": "2062d376-4f85-489f-abbc-015afcabebcd",
   "metadata": {
    "id": "2062d376-4f85-489f-abbc-015afcabebcd"
   },
   "outputs": [],
   "source": [
    "loaded_model = GPT2LMHeadModel.from_pretrained(model_path)\n",
    "loaded_tokeniser = GPT2Tokenizer.from_pretrained(model_path)"
   ]
  },
  {
   "cell_type": "code",
   "execution_count": 41,
   "id": "823fa7d1-8dcc-4650-a740-35fd41aeecf9",
   "metadata": {
    "colab": {
     "base_uri": "https://localhost:8080/"
    },
    "execution": {
     "iopub.status.busy": "2023-07-29T07:00:47.493245Z",
     "iopub.status.idle": "2023-07-29T07:00:47.493699Z",
     "shell.execute_reply": "2023-07-29T07:00:47.493488Z",
     "shell.execute_reply.started": "2023-07-29T07:00:47.493453Z"
    },
    "id": "823fa7d1-8dcc-4650-a740-35fd41aeecf9",
    "outputId": "d6dc764c-f05f-4250-c0b2-5c8edbb992b5"
   },
   "outputs": [
    {
     "data": {
      "text/plain": [
       "['Here is a joke filled with harmless humour: youre going to spend days out in your apartment laughing at the news and then getting up early on sund',\n",
       " 'Here is a joke filled with harmless humour: everyone laughs at the moon because that means it takes one to walk up on an emaciated alien you',\n",
       " 'Here is a joke filled with harmless humour: youre not going to be offended by it unless your name goes on top of the list and shows up']"
      ]
     },
     "execution_count": 41,
     "metadata": {},
     "output_type": "execute_result"
    }
   ],
   "source": [
    "prompt = \"Here is a joke filled with harmless humour:\"\n",
    "generate_jokes(loaded_model, loaded_tokeniser, prompt)"
   ]
  },
  {
   "cell_type": "markdown",
   "id": "P6KRPa2IeqKl",
   "metadata": {
    "id": "P6KRPa2IeqKl"
   },
   "source": [
    "### Acknowledgement: Datasets"
   ]
  },
  {
   "cell_type": "markdown",
   "id": "dd1b5789-ea81-4ae1-bfff-e1eda5a3fda9",
   "metadata": {
    "id": "dd1b5789-ea81-4ae1-bfff-e1eda5a3fda9"
   },
   "source": [
    "### [Short Jokes](https://www.kaggle.com/datasets/abhinavmoudgil95/short-jokes)\n",
    "### [Stupidstuff](https://github.com/taivop/joke-dataset#stupidstuffjson)\n",
    "### [Wocka](https://github.com/taivop/joke-dataset#wockajson)"
   ]
  }
 ],
 "metadata": {
  "accelerator": "GPU",
  "colab": {
   "gpuType": "T4",
   "provenance": []
  },
  "kernelspec": {
   "display_name": "Python 3 (ipykernel)",
   "language": "python",
   "name": "python3"
  },
  "language_info": {
   "codemirror_mode": {
    "name": "ipython",
    "version": 3
   },
   "file_extension": ".py",
   "mimetype": "text/x-python",
   "name": "python",
   "nbconvert_exporter": "python",
   "pygments_lexer": "ipython3",
   "version": "3.10.8"
  },
  "widgets": {
   "application/vnd.jupyter.widget-state+json": {
    "018d488138ab4cd489d4c65c730ddfa9": {
     "model_module": "@jupyter-widgets/controls",
     "model_module_version": "1.5.0",
     "model_name": "DescriptionStyleModel",
     "state": {
      "_model_module": "@jupyter-widgets/controls",
      "_model_module_version": "1.5.0",
      "_model_name": "DescriptionStyleModel",
      "_view_count": null,
      "_view_module": "@jupyter-widgets/base",
      "_view_module_version": "1.2.0",
      "_view_name": "StyleView",
      "description_width": ""
     }
    },
    "0aa0d25f9a004449b2905c1717198290": {
     "model_module": "@jupyter-widgets/controls",
     "model_module_version": "1.5.0",
     "model_name": "DescriptionStyleModel",
     "state": {
      "_model_module": "@jupyter-widgets/controls",
      "_model_module_version": "1.5.0",
      "_model_name": "DescriptionStyleModel",
      "_view_count": null,
      "_view_module": "@jupyter-widgets/base",
      "_view_module_version": "1.2.0",
      "_view_name": "StyleView",
      "description_width": ""
     }
    },
    "0c59bb54bd10488a8e254c816f4eb38b": {
     "model_module": "@jupyter-widgets/controls",
     "model_module_version": "1.5.0",
     "model_name": "DescriptionStyleModel",
     "state": {
      "_model_module": "@jupyter-widgets/controls",
      "_model_module_version": "1.5.0",
      "_model_name": "DescriptionStyleModel",
      "_view_count": null,
      "_view_module": "@jupyter-widgets/base",
      "_view_module_version": "1.2.0",
      "_view_name": "StyleView",
      "description_width": ""
     }
    },
    "0ffe442536fb4514b593e437c8fcf9ef": {
     "model_module": "@jupyter-widgets/base",
     "model_module_version": "1.2.0",
     "model_name": "LayoutModel",
     "state": {
      "_model_module": "@jupyter-widgets/base",
      "_model_module_version": "1.2.0",
      "_model_name": "LayoutModel",
      "_view_count": null,
      "_view_module": "@jupyter-widgets/base",
      "_view_module_version": "1.2.0",
      "_view_name": "LayoutView",
      "align_content": null,
      "align_items": null,
      "align_self": null,
      "border": null,
      "bottom": null,
      "display": null,
      "flex": null,
      "flex_flow": null,
      "grid_area": null,
      "grid_auto_columns": null,
      "grid_auto_flow": null,
      "grid_auto_rows": null,
      "grid_column": null,
      "grid_gap": null,
      "grid_row": null,
      "grid_template_areas": null,
      "grid_template_columns": null,
      "grid_template_rows": null,
      "height": null,
      "justify_content": null,
      "justify_items": null,
      "left": null,
      "margin": null,
      "max_height": null,
      "max_width": null,
      "min_height": null,
      "min_width": null,
      "object_fit": null,
      "object_position": null,
      "order": null,
      "overflow": null,
      "overflow_x": null,
      "overflow_y": null,
      "padding": null,
      "right": null,
      "top": null,
      "visibility": null,
      "width": null
     }
    },
    "17599965819e4e5ca17da8938adfc0c1": {
     "model_module": "@jupyter-widgets/base",
     "model_module_version": "1.2.0",
     "model_name": "LayoutModel",
     "state": {
      "_model_module": "@jupyter-widgets/base",
      "_model_module_version": "1.2.0",
      "_model_name": "LayoutModel",
      "_view_count": null,
      "_view_module": "@jupyter-widgets/base",
      "_view_module_version": "1.2.0",
      "_view_name": "LayoutView",
      "align_content": null,
      "align_items": null,
      "align_self": null,
      "border": null,
      "bottom": null,
      "display": null,
      "flex": null,
      "flex_flow": null,
      "grid_area": null,
      "grid_auto_columns": null,
      "grid_auto_flow": null,
      "grid_auto_rows": null,
      "grid_column": null,
      "grid_gap": null,
      "grid_row": null,
      "grid_template_areas": null,
      "grid_template_columns": null,
      "grid_template_rows": null,
      "height": null,
      "justify_content": null,
      "justify_items": null,
      "left": null,
      "margin": null,
      "max_height": null,
      "max_width": null,
      "min_height": null,
      "min_width": null,
      "object_fit": null,
      "object_position": null,
      "order": null,
      "overflow": null,
      "overflow_x": null,
      "overflow_y": null,
      "padding": null,
      "right": null,
      "top": null,
      "visibility": null,
      "width": null
     }
    },
    "19f9bb0b0aea478da0ddbe9fd26f7906": {
     "model_module": "@jupyter-widgets/controls",
     "model_module_version": "1.5.0",
     "model_name": "HBoxModel",
     "state": {
      "_dom_classes": [],
      "_model_module": "@jupyter-widgets/controls",
      "_model_module_version": "1.5.0",
      "_model_name": "HBoxModel",
      "_view_count": null,
      "_view_module": "@jupyter-widgets/controls",
      "_view_module_version": "1.5.0",
      "_view_name": "HBoxView",
      "box_style": "",
      "children": [
       "IPY_MODEL_8816e9e694034b189c276a8924ad599f",
       "IPY_MODEL_f0a14221b1914725b783d4979af683c5",
       "IPY_MODEL_2be37fc169da4cf18b15041612c332fe"
      ],
      "layout": "IPY_MODEL_17599965819e4e5ca17da8938adfc0c1"
     }
    },
    "1f7a334ded05481aacd85a5eda1314ef": {
     "model_module": "@jupyter-widgets/base",
     "model_module_version": "1.2.0",
     "model_name": "LayoutModel",
     "state": {
      "_model_module": "@jupyter-widgets/base",
      "_model_module_version": "1.2.0",
      "_model_name": "LayoutModel",
      "_view_count": null,
      "_view_module": "@jupyter-widgets/base",
      "_view_module_version": "1.2.0",
      "_view_name": "LayoutView",
      "align_content": null,
      "align_items": null,
      "align_self": null,
      "border": null,
      "bottom": null,
      "display": null,
      "flex": null,
      "flex_flow": null,
      "grid_area": null,
      "grid_auto_columns": null,
      "grid_auto_flow": null,
      "grid_auto_rows": null,
      "grid_column": null,
      "grid_gap": null,
      "grid_row": null,
      "grid_template_areas": null,
      "grid_template_columns": null,
      "grid_template_rows": null,
      "height": null,
      "justify_content": null,
      "justify_items": null,
      "left": null,
      "margin": null,
      "max_height": null,
      "max_width": null,
      "min_height": null,
      "min_width": null,
      "object_fit": null,
      "object_position": null,
      "order": null,
      "overflow": null,
      "overflow_x": null,
      "overflow_y": null,
      "padding": null,
      "right": null,
      "top": null,
      "visibility": null,
      "width": null
     }
    },
    "2054ead15d8c4156b380684c15f97963": {
     "model_module": "@jupyter-widgets/controls",
     "model_module_version": "1.5.0",
     "model_name": "ProgressStyleModel",
     "state": {
      "_model_module": "@jupyter-widgets/controls",
      "_model_module_version": "1.5.0",
      "_model_name": "ProgressStyleModel",
      "_view_count": null,
      "_view_module": "@jupyter-widgets/base",
      "_view_module_version": "1.2.0",
      "_view_name": "StyleView",
      "bar_color": null,
      "description_width": ""
     }
    },
    "26c031ced94a4186b51d00ae94a528ff": {
     "model_module": "@jupyter-widgets/controls",
     "model_module_version": "1.5.0",
     "model_name": "DescriptionStyleModel",
     "state": {
      "_model_module": "@jupyter-widgets/controls",
      "_model_module_version": "1.5.0",
      "_model_name": "DescriptionStyleModel",
      "_view_count": null,
      "_view_module": "@jupyter-widgets/base",
      "_view_module_version": "1.2.0",
      "_view_name": "StyleView",
      "description_width": ""
     }
    },
    "288d7a18fa8e4889b464ba38dc5dbf18": {
     "model_module": "@jupyter-widgets/controls",
     "model_module_version": "1.5.0",
     "model_name": "HTMLModel",
     "state": {
      "_dom_classes": [],
      "_model_module": "@jupyter-widgets/controls",
      "_model_module_version": "1.5.0",
      "_model_name": "HTMLModel",
      "_view_count": null,
      "_view_module": "@jupyter-widgets/controls",
      "_view_module_version": "1.5.0",
      "_view_name": "HTMLView",
      "description": "",
      "description_tooltip": null,
      "layout": "IPY_MODEL_89b1e14624fb45968b08b4a2bb6beaea",
      "placeholder": "​",
      "style": "IPY_MODEL_0c59bb54bd10488a8e254c816f4eb38b",
      "value": " 456k/456k [00:00&lt;00:00, 1.08MB/s]"
     }
    },
    "2be37fc169da4cf18b15041612c332fe": {
     "model_module": "@jupyter-widgets/controls",
     "model_module_version": "1.5.0",
     "model_name": "HTMLModel",
     "state": {
      "_dom_classes": [],
      "_model_module": "@jupyter-widgets/controls",
      "_model_module_version": "1.5.0",
      "_model_name": "HTMLModel",
      "_view_count": null,
      "_view_module": "@jupyter-widgets/controls",
      "_view_module_version": "1.5.0",
      "_view_name": "HTMLView",
      "description": "",
      "description_tooltip": null,
      "layout": "IPY_MODEL_a73b2eac79374ea783a9147b32f292bf",
      "placeholder": "​",
      "style": "IPY_MODEL_d1b2d78b233340f4a8d6e4143980f534",
      "value": " 1.04M/1.04M [00:00&lt;00:00, 1.68MB/s]"
     }
    },
    "2cd5ccc093654e3c9b9b863f187f8387": {
     "model_module": "@jupyter-widgets/controls",
     "model_module_version": "1.5.0",
     "model_name": "DescriptionStyleModel",
     "state": {
      "_model_module": "@jupyter-widgets/controls",
      "_model_module_version": "1.5.0",
      "_model_name": "DescriptionStyleModel",
      "_view_count": null,
      "_view_module": "@jupyter-widgets/base",
      "_view_module_version": "1.2.0",
      "_view_name": "StyleView",
      "description_width": ""
     }
    },
    "2e6f605d36134a1196066b97e15d7917": {
     "model_module": "@jupyter-widgets/controls",
     "model_module_version": "1.5.0",
     "model_name": "FloatProgressModel",
     "state": {
      "_dom_classes": [],
      "_model_module": "@jupyter-widgets/controls",
      "_model_module_version": "1.5.0",
      "_model_name": "FloatProgressModel",
      "_view_count": null,
      "_view_module": "@jupyter-widgets/controls",
      "_view_module_version": "1.5.0",
      "_view_name": "ProgressView",
      "bar_style": "success",
      "description": "",
      "description_tooltip": null,
      "layout": "IPY_MODEL_e04df6aed2ed47688286396ad0759d03",
      "max": 124,
      "min": 0,
      "orientation": "horizontal",
      "style": "IPY_MODEL_3f40457c4345491286ff3e5eb9a8fa28",
      "value": 124
     }
    },
    "3135d6ab6ddb4a0cabcc0abc0cbbea75": {
     "model_module": "@jupyter-widgets/controls",
     "model_module_version": "1.5.0",
     "model_name": "DescriptionStyleModel",
     "state": {
      "_model_module": "@jupyter-widgets/controls",
      "_model_module_version": "1.5.0",
      "_model_name": "DescriptionStyleModel",
      "_view_count": null,
      "_view_module": "@jupyter-widgets/base",
      "_view_module_version": "1.2.0",
      "_view_name": "StyleView",
      "description_width": ""
     }
    },
    "3201c90605fc428591c8a3ac26b59535": {
     "model_module": "@jupyter-widgets/controls",
     "model_module_version": "1.5.0",
     "model_name": "DescriptionStyleModel",
     "state": {
      "_model_module": "@jupyter-widgets/controls",
      "_model_module_version": "1.5.0",
      "_model_name": "DescriptionStyleModel",
      "_view_count": null,
      "_view_module": "@jupyter-widgets/base",
      "_view_module_version": "1.2.0",
      "_view_name": "StyleView",
      "description_width": ""
     }
    },
    "3271476eab7f40d896ab5d368c27fbb8": {
     "model_module": "@jupyter-widgets/controls",
     "model_module_version": "1.5.0",
     "model_name": "DescriptionStyleModel",
     "state": {
      "_model_module": "@jupyter-widgets/controls",
      "_model_module_version": "1.5.0",
      "_model_name": "DescriptionStyleModel",
      "_view_count": null,
      "_view_module": "@jupyter-widgets/base",
      "_view_module_version": "1.2.0",
      "_view_name": "StyleView",
      "description_width": ""
     }
    },
    "3558df8190c04ac6b1d92875ee916ab8": {
     "model_module": "@jupyter-widgets/controls",
     "model_module_version": "1.5.0",
     "model_name": "DescriptionStyleModel",
     "state": {
      "_model_module": "@jupyter-widgets/controls",
      "_model_module_version": "1.5.0",
      "_model_name": "DescriptionStyleModel",
      "_view_count": null,
      "_view_module": "@jupyter-widgets/base",
      "_view_module_version": "1.2.0",
      "_view_name": "StyleView",
      "description_width": ""
     }
    },
    "3c92441bde3942588c6554022e232b7d": {
     "model_module": "@jupyter-widgets/controls",
     "model_module_version": "1.5.0",
     "model_name": "ProgressStyleModel",
     "state": {
      "_model_module": "@jupyter-widgets/controls",
      "_model_module_version": "1.5.0",
      "_model_name": "ProgressStyleModel",
      "_view_count": null,
      "_view_module": "@jupyter-widgets/base",
      "_view_module_version": "1.2.0",
      "_view_name": "StyleView",
      "bar_color": null,
      "description_width": ""
     }
    },
    "3f40457c4345491286ff3e5eb9a8fa28": {
     "model_module": "@jupyter-widgets/controls",
     "model_module_version": "1.5.0",
     "model_name": "ProgressStyleModel",
     "state": {
      "_model_module": "@jupyter-widgets/controls",
      "_model_module_version": "1.5.0",
      "_model_name": "ProgressStyleModel",
      "_view_count": null,
      "_view_module": "@jupyter-widgets/base",
      "_view_module_version": "1.2.0",
      "_view_name": "StyleView",
      "bar_color": null,
      "description_width": ""
     }
    },
    "4da3f2ebb1c249649c6520beeeb179c1": {
     "model_module": "@jupyter-widgets/base",
     "model_module_version": "1.2.0",
     "model_name": "LayoutModel",
     "state": {
      "_model_module": "@jupyter-widgets/base",
      "_model_module_version": "1.2.0",
      "_model_name": "LayoutModel",
      "_view_count": null,
      "_view_module": "@jupyter-widgets/base",
      "_view_module_version": "1.2.0",
      "_view_name": "LayoutView",
      "align_content": null,
      "align_items": null,
      "align_self": null,
      "border": null,
      "bottom": null,
      "display": null,
      "flex": null,
      "flex_flow": null,
      "grid_area": null,
      "grid_auto_columns": null,
      "grid_auto_flow": null,
      "grid_auto_rows": null,
      "grid_column": null,
      "grid_gap": null,
      "grid_row": null,
      "grid_template_areas": null,
      "grid_template_columns": null,
      "grid_template_rows": null,
      "height": null,
      "justify_content": null,
      "justify_items": null,
      "left": null,
      "margin": null,
      "max_height": null,
      "max_width": null,
      "min_height": null,
      "min_width": null,
      "object_fit": null,
      "object_position": null,
      "order": null,
      "overflow": null,
      "overflow_x": null,
      "overflow_y": null,
      "padding": null,
      "right": null,
      "top": null,
      "visibility": null,
      "width": null
     }
    },
    "4df102f971f64b8b8a41f02276cbe1e1": {
     "model_module": "@jupyter-widgets/base",
     "model_module_version": "1.2.0",
     "model_name": "LayoutModel",
     "state": {
      "_model_module": "@jupyter-widgets/base",
      "_model_module_version": "1.2.0",
      "_model_name": "LayoutModel",
      "_view_count": null,
      "_view_module": "@jupyter-widgets/base",
      "_view_module_version": "1.2.0",
      "_view_name": "LayoutView",
      "align_content": null,
      "align_items": null,
      "align_self": null,
      "border": null,
      "bottom": null,
      "display": null,
      "flex": null,
      "flex_flow": null,
      "grid_area": null,
      "grid_auto_columns": null,
      "grid_auto_flow": null,
      "grid_auto_rows": null,
      "grid_column": null,
      "grid_gap": null,
      "grid_row": null,
      "grid_template_areas": null,
      "grid_template_columns": null,
      "grid_template_rows": null,
      "height": null,
      "justify_content": null,
      "justify_items": null,
      "left": null,
      "margin": null,
      "max_height": null,
      "max_width": null,
      "min_height": null,
      "min_width": null,
      "object_fit": null,
      "object_position": null,
      "order": null,
      "overflow": null,
      "overflow_x": null,
      "overflow_y": null,
      "padding": null,
      "right": null,
      "top": null,
      "visibility": null,
      "width": null
     }
    },
    "4e8ba4d842334ee79b93e69dec95829e": {
     "model_module": "@jupyter-widgets/base",
     "model_module_version": "1.2.0",
     "model_name": "LayoutModel",
     "state": {
      "_model_module": "@jupyter-widgets/base",
      "_model_module_version": "1.2.0",
      "_model_name": "LayoutModel",
      "_view_count": null,
      "_view_module": "@jupyter-widgets/base",
      "_view_module_version": "1.2.0",
      "_view_name": "LayoutView",
      "align_content": null,
      "align_items": null,
      "align_self": null,
      "border": null,
      "bottom": null,
      "display": null,
      "flex": null,
      "flex_flow": null,
      "grid_area": null,
      "grid_auto_columns": null,
      "grid_auto_flow": null,
      "grid_auto_rows": null,
      "grid_column": null,
      "grid_gap": null,
      "grid_row": null,
      "grid_template_areas": null,
      "grid_template_columns": null,
      "grid_template_rows": null,
      "height": null,
      "justify_content": null,
      "justify_items": null,
      "left": null,
      "margin": null,
      "max_height": null,
      "max_width": null,
      "min_height": null,
      "min_width": null,
      "object_fit": null,
      "object_position": null,
      "order": null,
      "overflow": null,
      "overflow_x": null,
      "overflow_y": null,
      "padding": null,
      "right": null,
      "top": null,
      "visibility": null,
      "width": null
     }
    },
    "536d7ac6c1144471971f0f316c29e3cb": {
     "model_module": "@jupyter-widgets/controls",
     "model_module_version": "1.5.0",
     "model_name": "HBoxModel",
     "state": {
      "_dom_classes": [],
      "_model_module": "@jupyter-widgets/controls",
      "_model_module_version": "1.5.0",
      "_model_name": "HBoxModel",
      "_view_count": null,
      "_view_module": "@jupyter-widgets/controls",
      "_view_module_version": "1.5.0",
      "_view_name": "HBoxView",
      "box_style": "",
      "children": [
       "IPY_MODEL_6ef62b69ede0432e96a3ffed86867764",
       "IPY_MODEL_2e6f605d36134a1196066b97e15d7917",
       "IPY_MODEL_e8e35271b1e5436bbe6766f9da3f2ff0"
      ],
      "layout": "IPY_MODEL_1f7a334ded05481aacd85a5eda1314ef"
     }
    },
    "5733774b181d4850a0789bf3272e5ae5": {
     "model_module": "@jupyter-widgets/base",
     "model_module_version": "1.2.0",
     "model_name": "LayoutModel",
     "state": {
      "_model_module": "@jupyter-widgets/base",
      "_model_module_version": "1.2.0",
      "_model_name": "LayoutModel",
      "_view_count": null,
      "_view_module": "@jupyter-widgets/base",
      "_view_module_version": "1.2.0",
      "_view_name": "LayoutView",
      "align_content": null,
      "align_items": null,
      "align_self": null,
      "border": null,
      "bottom": null,
      "display": null,
      "flex": null,
      "flex_flow": null,
      "grid_area": null,
      "grid_auto_columns": null,
      "grid_auto_flow": null,
      "grid_auto_rows": null,
      "grid_column": null,
      "grid_gap": null,
      "grid_row": null,
      "grid_template_areas": null,
      "grid_template_columns": null,
      "grid_template_rows": null,
      "height": null,
      "justify_content": null,
      "justify_items": null,
      "left": null,
      "margin": null,
      "max_height": null,
      "max_width": null,
      "min_height": null,
      "min_width": null,
      "object_fit": null,
      "object_position": null,
      "order": null,
      "overflow": null,
      "overflow_x": null,
      "overflow_y": null,
      "padding": null,
      "right": null,
      "top": null,
      "visibility": null,
      "width": null
     }
    },
    "5b7e18aaefc74cc89395606e681313ee": {
     "model_module": "@jupyter-widgets/controls",
     "model_module_version": "1.5.0",
     "model_name": "ProgressStyleModel",
     "state": {
      "_model_module": "@jupyter-widgets/controls",
      "_model_module_version": "1.5.0",
      "_model_name": "ProgressStyleModel",
      "_view_count": null,
      "_view_module": "@jupyter-widgets/base",
      "_view_module_version": "1.2.0",
      "_view_name": "StyleView",
      "bar_color": null,
      "description_width": ""
     }
    },
    "5bccfc183acf4f8888024b1c99fc0ad9": {
     "model_module": "@jupyter-widgets/controls",
     "model_module_version": "1.5.0",
     "model_name": "HTMLModel",
     "state": {
      "_dom_classes": [],
      "_model_module": "@jupyter-widgets/controls",
      "_model_module_version": "1.5.0",
      "_model_name": "HTMLModel",
      "_view_count": null,
      "_view_module": "@jupyter-widgets/controls",
      "_view_module_version": "1.5.0",
      "_view_name": "HTMLView",
      "description": "",
      "description_tooltip": null,
      "layout": "IPY_MODEL_b675fe90dbde4dee8d98beaac22fa794",
      "placeholder": "​",
      "style": "IPY_MODEL_8ec994f4830c4eeabbd4e924e60762e8",
      "value": " 548M/548M [00:04&lt;00:00, 245MB/s]"
     }
    },
    "5c772df07ce64d81956410d2642f582c": {
     "model_module": "@jupyter-widgets/controls",
     "model_module_version": "1.5.0",
     "model_name": "HTMLModel",
     "state": {
      "_dom_classes": [],
      "_model_module": "@jupyter-widgets/controls",
      "_model_module_version": "1.5.0",
      "_model_name": "HTMLModel",
      "_view_count": null,
      "_view_module": "@jupyter-widgets/controls",
      "_view_module_version": "1.5.0",
      "_view_name": "HTMLView",
      "description": "",
      "description_tooltip": null,
      "layout": "IPY_MODEL_dc18c181dc284844a0405b4304b6985e",
      "placeholder": "​",
      "style": "IPY_MODEL_3271476eab7f40d896ab5d368c27fbb8",
      "value": "Map: 100%"
     }
    },
    "5cb149c683d645ea89dc6a22607877a1": {
     "model_module": "@jupyter-widgets/controls",
     "model_module_version": "1.5.0",
     "model_name": "HTMLModel",
     "state": {
      "_dom_classes": [],
      "_model_module": "@jupyter-widgets/controls",
      "_model_module_version": "1.5.0",
      "_model_name": "HTMLModel",
      "_view_count": null,
      "_view_module": "@jupyter-widgets/controls",
      "_view_module_version": "1.5.0",
      "_view_name": "HTMLView",
      "description": "",
      "description_tooltip": null,
      "layout": "IPY_MODEL_8d5ca49299de41e09ffc91b44c25d150",
      "placeholder": "​",
      "style": "IPY_MODEL_2cd5ccc093654e3c9b9b863f187f8387",
      "value": "Downloading (…)lve/main/config.json: 100%"
     }
    },
    "610fcf33109946c49c677ab042d12619": {
     "model_module": "@jupyter-widgets/controls",
     "model_module_version": "1.5.0",
     "model_name": "HTMLModel",
     "state": {
      "_dom_classes": [],
      "_model_module": "@jupyter-widgets/controls",
      "_model_module_version": "1.5.0",
      "_model_name": "HTMLModel",
      "_view_count": null,
      "_view_module": "@jupyter-widgets/controls",
      "_view_module_version": "1.5.0",
      "_view_name": "HTMLView",
      "description": "",
      "description_tooltip": null,
      "layout": "IPY_MODEL_a31c67ebea974004854befb317203c82",
      "placeholder": "​",
      "style": "IPY_MODEL_b728e5e94a304ba2a144fd4bc8359998",
      "value": "Downloading model.safetensors: 100%"
     }
    },
    "62eead3fcc14433f86c1f5afb8010a75": {
     "model_module": "@jupyter-widgets/controls",
     "model_module_version": "1.5.0",
     "model_name": "HBoxModel",
     "state": {
      "_dom_classes": [],
      "_model_module": "@jupyter-widgets/controls",
      "_model_module_version": "1.5.0",
      "_model_name": "HBoxModel",
      "_view_count": null,
      "_view_module": "@jupyter-widgets/controls",
      "_view_module_version": "1.5.0",
      "_view_name": "HBoxView",
      "box_style": "",
      "children": [
       "IPY_MODEL_8928e11de7de46319691ca2ee46dd39a",
       "IPY_MODEL_63bf55de883c4328a49411040056f1f9",
       "IPY_MODEL_b3ea405c0e6746b5b0c0a86da7af662c"
      ],
      "layout": "IPY_MODEL_4e8ba4d842334ee79b93e69dec95829e"
     }
    },
    "62f0b3b9c59444a69d2dcedc81b76f15": {
     "model_module": "@jupyter-widgets/base",
     "model_module_version": "1.2.0",
     "model_name": "LayoutModel",
     "state": {
      "_model_module": "@jupyter-widgets/base",
      "_model_module_version": "1.2.0",
      "_model_name": "LayoutModel",
      "_view_count": null,
      "_view_module": "@jupyter-widgets/base",
      "_view_module_version": "1.2.0",
      "_view_name": "LayoutView",
      "align_content": null,
      "align_items": null,
      "align_self": null,
      "border": null,
      "bottom": null,
      "display": null,
      "flex": null,
      "flex_flow": null,
      "grid_area": null,
      "grid_auto_columns": null,
      "grid_auto_flow": null,
      "grid_auto_rows": null,
      "grid_column": null,
      "grid_gap": null,
      "grid_row": null,
      "grid_template_areas": null,
      "grid_template_columns": null,
      "grid_template_rows": null,
      "height": null,
      "justify_content": null,
      "justify_items": null,
      "left": null,
      "margin": null,
      "max_height": null,
      "max_width": null,
      "min_height": null,
      "min_width": null,
      "object_fit": null,
      "object_position": null,
      "order": null,
      "overflow": null,
      "overflow_x": null,
      "overflow_y": null,
      "padding": null,
      "right": null,
      "top": null,
      "visibility": null,
      "width": null
     }
    },
    "636ba4a068524a13a8373e02b3c86859": {
     "model_module": "@jupyter-widgets/base",
     "model_module_version": "1.2.0",
     "model_name": "LayoutModel",
     "state": {
      "_model_module": "@jupyter-widgets/base",
      "_model_module_version": "1.2.0",
      "_model_name": "LayoutModel",
      "_view_count": null,
      "_view_module": "@jupyter-widgets/base",
      "_view_module_version": "1.2.0",
      "_view_name": "LayoutView",
      "align_content": null,
      "align_items": null,
      "align_self": null,
      "border": null,
      "bottom": null,
      "display": null,
      "flex": null,
      "flex_flow": null,
      "grid_area": null,
      "grid_auto_columns": null,
      "grid_auto_flow": null,
      "grid_auto_rows": null,
      "grid_column": null,
      "grid_gap": null,
      "grid_row": null,
      "grid_template_areas": null,
      "grid_template_columns": null,
      "grid_template_rows": null,
      "height": null,
      "justify_content": null,
      "justify_items": null,
      "left": null,
      "margin": null,
      "max_height": null,
      "max_width": null,
      "min_height": null,
      "min_width": null,
      "object_fit": null,
      "object_position": null,
      "order": null,
      "overflow": null,
      "overflow_x": null,
      "overflow_y": null,
      "padding": null,
      "right": null,
      "top": null,
      "visibility": null,
      "width": null
     }
    },
    "63bf55de883c4328a49411040056f1f9": {
     "model_module": "@jupyter-widgets/controls",
     "model_module_version": "1.5.0",
     "model_name": "FloatProgressModel",
     "state": {
      "_dom_classes": [],
      "_model_module": "@jupyter-widgets/controls",
      "_model_module_version": "1.5.0",
      "_model_name": "FloatProgressModel",
      "_view_count": null,
      "_view_module": "@jupyter-widgets/controls",
      "_view_module_version": "1.5.0",
      "_view_name": "ProgressView",
      "bar_style": "success",
      "description": "",
      "description_tooltip": null,
      "layout": "IPY_MODEL_f3f92dfee8934a6db6fb85f091d395cb",
      "max": 1100,
      "min": 0,
      "orientation": "horizontal",
      "style": "IPY_MODEL_e890b19d9ed748ffa250e9bec06f92af",
      "value": 1100
     }
    },
    "647edb84373849c088621104bab11b9c": {
     "model_module": "@jupyter-widgets/controls",
     "model_module_version": "1.5.0",
     "model_name": "FloatProgressModel",
     "state": {
      "_dom_classes": [],
      "_model_module": "@jupyter-widgets/controls",
      "_model_module_version": "1.5.0",
      "_model_name": "FloatProgressModel",
      "_view_count": null,
      "_view_module": "@jupyter-widgets/controls",
      "_view_module_version": "1.5.0",
      "_view_name": "ProgressView",
      "bar_style": "success",
      "description": "",
      "description_tooltip": null,
      "layout": "IPY_MODEL_8e2c37e9c9e446a6b16083ef9c2ba46b",
      "max": 665,
      "min": 0,
      "orientation": "horizontal",
      "style": "IPY_MODEL_3c92441bde3942588c6554022e232b7d",
      "value": 665
     }
    },
    "66403a24a9e04e2d84037d9ebd36230b": {
     "model_module": "@jupyter-widgets/controls",
     "model_module_version": "1.5.0",
     "model_name": "HBoxModel",
     "state": {
      "_dom_classes": [],
      "_model_module": "@jupyter-widgets/controls",
      "_model_module_version": "1.5.0",
      "_model_name": "HBoxModel",
      "_view_count": null,
      "_view_module": "@jupyter-widgets/controls",
      "_view_module_version": "1.5.0",
      "_view_name": "HBoxView",
      "box_style": "",
      "children": [
       "IPY_MODEL_610fcf33109946c49c677ab042d12619",
       "IPY_MODEL_e40d9a9cc37948818065411870cd6de5",
       "IPY_MODEL_5bccfc183acf4f8888024b1c99fc0ad9"
      ],
      "layout": "IPY_MODEL_5733774b181d4850a0789bf3272e5ae5"
     }
    },
    "6ef62b69ede0432e96a3ffed86867764": {
     "model_module": "@jupyter-widgets/controls",
     "model_module_version": "1.5.0",
     "model_name": "HTMLModel",
     "state": {
      "_dom_classes": [],
      "_model_module": "@jupyter-widgets/controls",
      "_model_module_version": "1.5.0",
      "_model_name": "HTMLModel",
      "_view_count": null,
      "_view_module": "@jupyter-widgets/controls",
      "_view_module_version": "1.5.0",
      "_view_name": "HTMLView",
      "description": "",
      "description_tooltip": null,
      "layout": "IPY_MODEL_88dd6506274241c096c5efbddd31d30d",
      "placeholder": "​",
      "style": "IPY_MODEL_3135d6ab6ddb4a0cabcc0abc0cbbea75",
      "value": "Downloading (…)neration_config.json: 100%"
     }
    },
    "714d5ae5b31044c4867c6a76e0521d5c": {
     "model_module": "@jupyter-widgets/base",
     "model_module_version": "1.2.0",
     "model_name": "LayoutModel",
     "state": {
      "_model_module": "@jupyter-widgets/base",
      "_model_module_version": "1.2.0",
      "_model_name": "LayoutModel",
      "_view_count": null,
      "_view_module": "@jupyter-widgets/base",
      "_view_module_version": "1.2.0",
      "_view_name": "LayoutView",
      "align_content": null,
      "align_items": null,
      "align_self": null,
      "border": null,
      "bottom": null,
      "display": null,
      "flex": null,
      "flex_flow": null,
      "grid_area": null,
      "grid_auto_columns": null,
      "grid_auto_flow": null,
      "grid_auto_rows": null,
      "grid_column": null,
      "grid_gap": null,
      "grid_row": null,
      "grid_template_areas": null,
      "grid_template_columns": null,
      "grid_template_rows": null,
      "height": null,
      "justify_content": null,
      "justify_items": null,
      "left": null,
      "margin": null,
      "max_height": null,
      "max_width": null,
      "min_height": null,
      "min_width": null,
      "object_fit": null,
      "object_position": null,
      "order": null,
      "overflow": null,
      "overflow_x": null,
      "overflow_y": null,
      "padding": null,
      "right": null,
      "top": null,
      "visibility": null,
      "width": null
     }
    },
    "71b1492d60d141aa8e34e5c46d8c3798": {
     "model_module": "@jupyter-widgets/base",
     "model_module_version": "1.2.0",
     "model_name": "LayoutModel",
     "state": {
      "_model_module": "@jupyter-widgets/base",
      "_model_module_version": "1.2.0",
      "_model_name": "LayoutModel",
      "_view_count": null,
      "_view_module": "@jupyter-widgets/base",
      "_view_module_version": "1.2.0",
      "_view_name": "LayoutView",
      "align_content": null,
      "align_items": null,
      "align_self": null,
      "border": null,
      "bottom": null,
      "display": null,
      "flex": null,
      "flex_flow": null,
      "grid_area": null,
      "grid_auto_columns": null,
      "grid_auto_flow": null,
      "grid_auto_rows": null,
      "grid_column": null,
      "grid_gap": null,
      "grid_row": null,
      "grid_template_areas": null,
      "grid_template_columns": null,
      "grid_template_rows": null,
      "height": null,
      "justify_content": null,
      "justify_items": null,
      "left": null,
      "margin": null,
      "max_height": null,
      "max_width": null,
      "min_height": null,
      "min_width": null,
      "object_fit": null,
      "object_position": null,
      "order": null,
      "overflow": null,
      "overflow_x": null,
      "overflow_y": null,
      "padding": null,
      "right": null,
      "top": null,
      "visibility": null,
      "width": null
     }
    },
    "736ac08040fe4ea796fc27bb08d96d10": {
     "model_module": "@jupyter-widgets/base",
     "model_module_version": "1.2.0",
     "model_name": "LayoutModel",
     "state": {
      "_model_module": "@jupyter-widgets/base",
      "_model_module_version": "1.2.0",
      "_model_name": "LayoutModel",
      "_view_count": null,
      "_view_module": "@jupyter-widgets/base",
      "_view_module_version": "1.2.0",
      "_view_name": "LayoutView",
      "align_content": null,
      "align_items": null,
      "align_self": null,
      "border": null,
      "bottom": null,
      "display": null,
      "flex": null,
      "flex_flow": null,
      "grid_area": null,
      "grid_auto_columns": null,
      "grid_auto_flow": null,
      "grid_auto_rows": null,
      "grid_column": null,
      "grid_gap": null,
      "grid_row": null,
      "grid_template_areas": null,
      "grid_template_columns": null,
      "grid_template_rows": null,
      "height": null,
      "justify_content": null,
      "justify_items": null,
      "left": null,
      "margin": null,
      "max_height": null,
      "max_width": null,
      "min_height": null,
      "min_width": null,
      "object_fit": null,
      "object_position": null,
      "order": null,
      "overflow": null,
      "overflow_x": null,
      "overflow_y": null,
      "padding": null,
      "right": null,
      "top": null,
      "visibility": null,
      "width": null
     }
    },
    "7eee9ebed69146ac856695dce63efb6a": {
     "model_module": "@jupyter-widgets/base",
     "model_module_version": "1.2.0",
     "model_name": "LayoutModel",
     "state": {
      "_model_module": "@jupyter-widgets/base",
      "_model_module_version": "1.2.0",
      "_model_name": "LayoutModel",
      "_view_count": null,
      "_view_module": "@jupyter-widgets/base",
      "_view_module_version": "1.2.0",
      "_view_name": "LayoutView",
      "align_content": null,
      "align_items": null,
      "align_self": null,
      "border": null,
      "bottom": null,
      "display": null,
      "flex": null,
      "flex_flow": null,
      "grid_area": null,
      "grid_auto_columns": null,
      "grid_auto_flow": null,
      "grid_auto_rows": null,
      "grid_column": null,
      "grid_gap": null,
      "grid_row": null,
      "grid_template_areas": null,
      "grid_template_columns": null,
      "grid_template_rows": null,
      "height": null,
      "justify_content": null,
      "justify_items": null,
      "left": null,
      "margin": null,
      "max_height": null,
      "max_width": null,
      "min_height": null,
      "min_width": null,
      "object_fit": null,
      "object_position": null,
      "order": null,
      "overflow": null,
      "overflow_x": null,
      "overflow_y": null,
      "padding": null,
      "right": null,
      "top": null,
      "visibility": null,
      "width": null
     }
    },
    "7f6a45710d8f46b5b2a69f7cd496e9ae": {
     "model_module": "@jupyter-widgets/controls",
     "model_module_version": "1.5.0",
     "model_name": "HTMLModel",
     "state": {
      "_dom_classes": [],
      "_model_module": "@jupyter-widgets/controls",
      "_model_module_version": "1.5.0",
      "_model_name": "HTMLModel",
      "_view_count": null,
      "_view_module": "@jupyter-widgets/controls",
      "_view_module_version": "1.5.0",
      "_view_name": "HTMLView",
      "description": "",
      "description_tooltip": null,
      "layout": "IPY_MODEL_ccb7be982ccb478fb151f55158198677",
      "placeholder": "​",
      "style": "IPY_MODEL_0aa0d25f9a004449b2905c1717198290",
      "value": " 665/665 [00:00&lt;00:00, 23.7kB/s]"
     }
    },
    "8011dd4f71854cbca7407c1836cea6aa": {
     "model_module": "@jupyter-widgets/controls",
     "model_module_version": "1.5.0",
     "model_name": "HBoxModel",
     "state": {
      "_dom_classes": [],
      "_model_module": "@jupyter-widgets/controls",
      "_model_module_version": "1.5.0",
      "_model_name": "HBoxModel",
      "_view_count": null,
      "_view_module": "@jupyter-widgets/controls",
      "_view_module_version": "1.5.0",
      "_view_name": "HBoxView",
      "box_style": "",
      "children": [
       "IPY_MODEL_c10cc1cf7f834c6bbec4be8f3ecc6212",
       "IPY_MODEL_e806166bdd2a4aeeb598be317af59627",
       "IPY_MODEL_288d7a18fa8e4889b464ba38dc5dbf18"
      ],
      "layout": "IPY_MODEL_71b1492d60d141aa8e34e5c46d8c3798"
     }
    },
    "8816e9e694034b189c276a8924ad599f": {
     "model_module": "@jupyter-widgets/controls",
     "model_module_version": "1.5.0",
     "model_name": "HTMLModel",
     "state": {
      "_dom_classes": [],
      "_model_module": "@jupyter-widgets/controls",
      "_model_module_version": "1.5.0",
      "_model_name": "HTMLModel",
      "_view_count": null,
      "_view_module": "@jupyter-widgets/controls",
      "_view_module_version": "1.5.0",
      "_view_name": "HTMLView",
      "description": "",
      "description_tooltip": null,
      "layout": "IPY_MODEL_736ac08040fe4ea796fc27bb08d96d10",
      "placeholder": "​",
      "style": "IPY_MODEL_018d488138ab4cd489d4c65c730ddfa9",
      "value": "Downloading (…)olve/main/vocab.json: 100%"
     }
    },
    "88dd6506274241c096c5efbddd31d30d": {
     "model_module": "@jupyter-widgets/base",
     "model_module_version": "1.2.0",
     "model_name": "LayoutModel",
     "state": {
      "_model_module": "@jupyter-widgets/base",
      "_model_module_version": "1.2.0",
      "_model_name": "LayoutModel",
      "_view_count": null,
      "_view_module": "@jupyter-widgets/base",
      "_view_module_version": "1.2.0",
      "_view_name": "LayoutView",
      "align_content": null,
      "align_items": null,
      "align_self": null,
      "border": null,
      "bottom": null,
      "display": null,
      "flex": null,
      "flex_flow": null,
      "grid_area": null,
      "grid_auto_columns": null,
      "grid_auto_flow": null,
      "grid_auto_rows": null,
      "grid_column": null,
      "grid_gap": null,
      "grid_row": null,
      "grid_template_areas": null,
      "grid_template_columns": null,
      "grid_template_rows": null,
      "height": null,
      "justify_content": null,
      "justify_items": null,
      "left": null,
      "margin": null,
      "max_height": null,
      "max_width": null,
      "min_height": null,
      "min_width": null,
      "object_fit": null,
      "object_position": null,
      "order": null,
      "overflow": null,
      "overflow_x": null,
      "overflow_y": null,
      "padding": null,
      "right": null,
      "top": null,
      "visibility": null,
      "width": null
     }
    },
    "8928e11de7de46319691ca2ee46dd39a": {
     "model_module": "@jupyter-widgets/controls",
     "model_module_version": "1.5.0",
     "model_name": "HTMLModel",
     "state": {
      "_dom_classes": [],
      "_model_module": "@jupyter-widgets/controls",
      "_model_module_version": "1.5.0",
      "_model_name": "HTMLModel",
      "_view_count": null,
      "_view_module": "@jupyter-widgets/controls",
      "_view_module_version": "1.5.0",
      "_view_name": "HTMLView",
      "description": "",
      "description_tooltip": null,
      "layout": "IPY_MODEL_af74ccc61f5c4fc6a1cd6cc817f06c60",
      "placeholder": "​",
      "style": "IPY_MODEL_3201c90605fc428591c8a3ac26b59535",
      "value": "Map: 100%"
     }
    },
    "89b1e14624fb45968b08b4a2bb6beaea": {
     "model_module": "@jupyter-widgets/base",
     "model_module_version": "1.2.0",
     "model_name": "LayoutModel",
     "state": {
      "_model_module": "@jupyter-widgets/base",
      "_model_module_version": "1.2.0",
      "_model_name": "LayoutModel",
      "_view_count": null,
      "_view_module": "@jupyter-widgets/base",
      "_view_module_version": "1.2.0",
      "_view_name": "LayoutView",
      "align_content": null,
      "align_items": null,
      "align_self": null,
      "border": null,
      "bottom": null,
      "display": null,
      "flex": null,
      "flex_flow": null,
      "grid_area": null,
      "grid_auto_columns": null,
      "grid_auto_flow": null,
      "grid_auto_rows": null,
      "grid_column": null,
      "grid_gap": null,
      "grid_row": null,
      "grid_template_areas": null,
      "grid_template_columns": null,
      "grid_template_rows": null,
      "height": null,
      "justify_content": null,
      "justify_items": null,
      "left": null,
      "margin": null,
      "max_height": null,
      "max_width": null,
      "min_height": null,
      "min_width": null,
      "object_fit": null,
      "object_position": null,
      "order": null,
      "overflow": null,
      "overflow_x": null,
      "overflow_y": null,
      "padding": null,
      "right": null,
      "top": null,
      "visibility": null,
      "width": null
     }
    },
    "8d5ca49299de41e09ffc91b44c25d150": {
     "model_module": "@jupyter-widgets/base",
     "model_module_version": "1.2.0",
     "model_name": "LayoutModel",
     "state": {
      "_model_module": "@jupyter-widgets/base",
      "_model_module_version": "1.2.0",
      "_model_name": "LayoutModel",
      "_view_count": null,
      "_view_module": "@jupyter-widgets/base",
      "_view_module_version": "1.2.0",
      "_view_name": "LayoutView",
      "align_content": null,
      "align_items": null,
      "align_self": null,
      "border": null,
      "bottom": null,
      "display": null,
      "flex": null,
      "flex_flow": null,
      "grid_area": null,
      "grid_auto_columns": null,
      "grid_auto_flow": null,
      "grid_auto_rows": null,
      "grid_column": null,
      "grid_gap": null,
      "grid_row": null,
      "grid_template_areas": null,
      "grid_template_columns": null,
      "grid_template_rows": null,
      "height": null,
      "justify_content": null,
      "justify_items": null,
      "left": null,
      "margin": null,
      "max_height": null,
      "max_width": null,
      "min_height": null,
      "min_width": null,
      "object_fit": null,
      "object_position": null,
      "order": null,
      "overflow": null,
      "overflow_x": null,
      "overflow_y": null,
      "padding": null,
      "right": null,
      "top": null,
      "visibility": null,
      "width": null
     }
    },
    "8e2c37e9c9e446a6b16083ef9c2ba46b": {
     "model_module": "@jupyter-widgets/base",
     "model_module_version": "1.2.0",
     "model_name": "LayoutModel",
     "state": {
      "_model_module": "@jupyter-widgets/base",
      "_model_module_version": "1.2.0",
      "_model_name": "LayoutModel",
      "_view_count": null,
      "_view_module": "@jupyter-widgets/base",
      "_view_module_version": "1.2.0",
      "_view_name": "LayoutView",
      "align_content": null,
      "align_items": null,
      "align_self": null,
      "border": null,
      "bottom": null,
      "display": null,
      "flex": null,
      "flex_flow": null,
      "grid_area": null,
      "grid_auto_columns": null,
      "grid_auto_flow": null,
      "grid_auto_rows": null,
      "grid_column": null,
      "grid_gap": null,
      "grid_row": null,
      "grid_template_areas": null,
      "grid_template_columns": null,
      "grid_template_rows": null,
      "height": null,
      "justify_content": null,
      "justify_items": null,
      "left": null,
      "margin": null,
      "max_height": null,
      "max_width": null,
      "min_height": null,
      "min_width": null,
      "object_fit": null,
      "object_position": null,
      "order": null,
      "overflow": null,
      "overflow_x": null,
      "overflow_y": null,
      "padding": null,
      "right": null,
      "top": null,
      "visibility": null,
      "width": null
     }
    },
    "8ec994f4830c4eeabbd4e924e60762e8": {
     "model_module": "@jupyter-widgets/controls",
     "model_module_version": "1.5.0",
     "model_name": "DescriptionStyleModel",
     "state": {
      "_model_module": "@jupyter-widgets/controls",
      "_model_module_version": "1.5.0",
      "_model_name": "DescriptionStyleModel",
      "_view_count": null,
      "_view_module": "@jupyter-widgets/base",
      "_view_module_version": "1.2.0",
      "_view_name": "StyleView",
      "description_width": ""
     }
    },
    "945f4b490e4d43f98ef444e055d8f17a": {
     "model_module": "@jupyter-widgets/base",
     "model_module_version": "1.2.0",
     "model_name": "LayoutModel",
     "state": {
      "_model_module": "@jupyter-widgets/base",
      "_model_module_version": "1.2.0",
      "_model_name": "LayoutModel",
      "_view_count": null,
      "_view_module": "@jupyter-widgets/base",
      "_view_module_version": "1.2.0",
      "_view_name": "LayoutView",
      "align_content": null,
      "align_items": null,
      "align_self": null,
      "border": null,
      "bottom": null,
      "display": null,
      "flex": null,
      "flex_flow": null,
      "grid_area": null,
      "grid_auto_columns": null,
      "grid_auto_flow": null,
      "grid_auto_rows": null,
      "grid_column": null,
      "grid_gap": null,
      "grid_row": null,
      "grid_template_areas": null,
      "grid_template_columns": null,
      "grid_template_rows": null,
      "height": null,
      "justify_content": null,
      "justify_items": null,
      "left": null,
      "margin": null,
      "max_height": null,
      "max_width": null,
      "min_height": null,
      "min_width": null,
      "object_fit": null,
      "object_position": null,
      "order": null,
      "overflow": null,
      "overflow_x": null,
      "overflow_y": null,
      "padding": null,
      "right": null,
      "top": null,
      "visibility": null,
      "width": null
     }
    },
    "955f9be26fbe486c9e5faef745cce8e5": {
     "model_module": "@jupyter-widgets/controls",
     "model_module_version": "1.5.0",
     "model_name": "FloatProgressModel",
     "state": {
      "_dom_classes": [],
      "_model_module": "@jupyter-widgets/controls",
      "_model_module_version": "1.5.0",
      "_model_name": "FloatProgressModel",
      "_view_count": null,
      "_view_module": "@jupyter-widgets/controls",
      "_view_module_version": "1.5.0",
      "_view_name": "ProgressView",
      "bar_style": "success",
      "description": "",
      "description_tooltip": null,
      "layout": "IPY_MODEL_945f4b490e4d43f98ef444e055d8f17a",
      "max": 8800,
      "min": 0,
      "orientation": "horizontal",
      "style": "IPY_MODEL_cd777e6708e74a04bb1caae9303378d4",
      "value": 8800
     }
    },
    "958b1c54df9e44759fc609e1c72f8122": {
     "model_module": "@jupyter-widgets/base",
     "model_module_version": "1.2.0",
     "model_name": "LayoutModel",
     "state": {
      "_model_module": "@jupyter-widgets/base",
      "_model_module_version": "1.2.0",
      "_model_name": "LayoutModel",
      "_view_count": null,
      "_view_module": "@jupyter-widgets/base",
      "_view_module_version": "1.2.0",
      "_view_name": "LayoutView",
      "align_content": null,
      "align_items": null,
      "align_self": null,
      "border": null,
      "bottom": null,
      "display": null,
      "flex": null,
      "flex_flow": null,
      "grid_area": null,
      "grid_auto_columns": null,
      "grid_auto_flow": null,
      "grid_auto_rows": null,
      "grid_column": null,
      "grid_gap": null,
      "grid_row": null,
      "grid_template_areas": null,
      "grid_template_columns": null,
      "grid_template_rows": null,
      "height": null,
      "justify_content": null,
      "justify_items": null,
      "left": null,
      "margin": null,
      "max_height": null,
      "max_width": null,
      "min_height": null,
      "min_width": null,
      "object_fit": null,
      "object_position": null,
      "order": null,
      "overflow": null,
      "overflow_x": null,
      "overflow_y": null,
      "padding": null,
      "right": null,
      "top": null,
      "visibility": null,
      "width": null
     }
    },
    "9d8fea31cefa40abb2d56f0753e4b182": {
     "model_module": "@jupyter-widgets/controls",
     "model_module_version": "1.5.0",
     "model_name": "DescriptionStyleModel",
     "state": {
      "_model_module": "@jupyter-widgets/controls",
      "_model_module_version": "1.5.0",
      "_model_name": "DescriptionStyleModel",
      "_view_count": null,
      "_view_module": "@jupyter-widgets/base",
      "_view_module_version": "1.2.0",
      "_view_name": "StyleView",
      "description_width": ""
     }
    },
    "a2a9c5ebcd8f4d2bb815727d3834510a": {
     "model_module": "@jupyter-widgets/controls",
     "model_module_version": "1.5.0",
     "model_name": "HTMLModel",
     "state": {
      "_dom_classes": [],
      "_model_module": "@jupyter-widgets/controls",
      "_model_module_version": "1.5.0",
      "_model_name": "HTMLModel",
      "_view_count": null,
      "_view_module": "@jupyter-widgets/controls",
      "_view_module_version": "1.5.0",
      "_view_name": "HTMLView",
      "description": "",
      "description_tooltip": null,
      "layout": "IPY_MODEL_62f0b3b9c59444a69d2dcedc81b76f15",
      "placeholder": "​",
      "style": "IPY_MODEL_3558df8190c04ac6b1d92875ee916ab8",
      "value": " 8800/8800 [00:04&lt;00:00, 2095.71 examples/s]"
     }
    },
    "a31c67ebea974004854befb317203c82": {
     "model_module": "@jupyter-widgets/base",
     "model_module_version": "1.2.0",
     "model_name": "LayoutModel",
     "state": {
      "_model_module": "@jupyter-widgets/base",
      "_model_module_version": "1.2.0",
      "_model_name": "LayoutModel",
      "_view_count": null,
      "_view_module": "@jupyter-widgets/base",
      "_view_module_version": "1.2.0",
      "_view_name": "LayoutView",
      "align_content": null,
      "align_items": null,
      "align_self": null,
      "border": null,
      "bottom": null,
      "display": null,
      "flex": null,
      "flex_flow": null,
      "grid_area": null,
      "grid_auto_columns": null,
      "grid_auto_flow": null,
      "grid_auto_rows": null,
      "grid_column": null,
      "grid_gap": null,
      "grid_row": null,
      "grid_template_areas": null,
      "grid_template_columns": null,
      "grid_template_rows": null,
      "height": null,
      "justify_content": null,
      "justify_items": null,
      "left": null,
      "margin": null,
      "max_height": null,
      "max_width": null,
      "min_height": null,
      "min_width": null,
      "object_fit": null,
      "object_position": null,
      "order": null,
      "overflow": null,
      "overflow_x": null,
      "overflow_y": null,
      "padding": null,
      "right": null,
      "top": null,
      "visibility": null,
      "width": null
     }
    },
    "a73b2eac79374ea783a9147b32f292bf": {
     "model_module": "@jupyter-widgets/base",
     "model_module_version": "1.2.0",
     "model_name": "LayoutModel",
     "state": {
      "_model_module": "@jupyter-widgets/base",
      "_model_module_version": "1.2.0",
      "_model_name": "LayoutModel",
      "_view_count": null,
      "_view_module": "@jupyter-widgets/base",
      "_view_module_version": "1.2.0",
      "_view_name": "LayoutView",
      "align_content": null,
      "align_items": null,
      "align_self": null,
      "border": null,
      "bottom": null,
      "display": null,
      "flex": null,
      "flex_flow": null,
      "grid_area": null,
      "grid_auto_columns": null,
      "grid_auto_flow": null,
      "grid_auto_rows": null,
      "grid_column": null,
      "grid_gap": null,
      "grid_row": null,
      "grid_template_areas": null,
      "grid_template_columns": null,
      "grid_template_rows": null,
      "height": null,
      "justify_content": null,
      "justify_items": null,
      "left": null,
      "margin": null,
      "max_height": null,
      "max_width": null,
      "min_height": null,
      "min_width": null,
      "object_fit": null,
      "object_position": null,
      "order": null,
      "overflow": null,
      "overflow_x": null,
      "overflow_y": null,
      "padding": null,
      "right": null,
      "top": null,
      "visibility": null,
      "width": null
     }
    },
    "af74ccc61f5c4fc6a1cd6cc817f06c60": {
     "model_module": "@jupyter-widgets/base",
     "model_module_version": "1.2.0",
     "model_name": "LayoutModel",
     "state": {
      "_model_module": "@jupyter-widgets/base",
      "_model_module_version": "1.2.0",
      "_model_name": "LayoutModel",
      "_view_count": null,
      "_view_module": "@jupyter-widgets/base",
      "_view_module_version": "1.2.0",
      "_view_name": "LayoutView",
      "align_content": null,
      "align_items": null,
      "align_self": null,
      "border": null,
      "bottom": null,
      "display": null,
      "flex": null,
      "flex_flow": null,
      "grid_area": null,
      "grid_auto_columns": null,
      "grid_auto_flow": null,
      "grid_auto_rows": null,
      "grid_column": null,
      "grid_gap": null,
      "grid_row": null,
      "grid_template_areas": null,
      "grid_template_columns": null,
      "grid_template_rows": null,
      "height": null,
      "justify_content": null,
      "justify_items": null,
      "left": null,
      "margin": null,
      "max_height": null,
      "max_width": null,
      "min_height": null,
      "min_width": null,
      "object_fit": null,
      "object_position": null,
      "order": null,
      "overflow": null,
      "overflow_x": null,
      "overflow_y": null,
      "padding": null,
      "right": null,
      "top": null,
      "visibility": null,
      "width": null
     }
    },
    "b3ea405c0e6746b5b0c0a86da7af662c": {
     "model_module": "@jupyter-widgets/controls",
     "model_module_version": "1.5.0",
     "model_name": "HTMLModel",
     "state": {
      "_dom_classes": [],
      "_model_module": "@jupyter-widgets/controls",
      "_model_module_version": "1.5.0",
      "_model_name": "HTMLModel",
      "_view_count": null,
      "_view_module": "@jupyter-widgets/controls",
      "_view_module_version": "1.5.0",
      "_view_name": "HTMLView",
      "description": "",
      "description_tooltip": null,
      "layout": "IPY_MODEL_636ba4a068524a13a8373e02b3c86859",
      "placeholder": "​",
      "style": "IPY_MODEL_f9fd1ce2144044408688a8be8b80ba70",
      "value": " 1100/1100 [00:00&lt;00:00, 2833.30 examples/s]"
     }
    },
    "b675fe90dbde4dee8d98beaac22fa794": {
     "model_module": "@jupyter-widgets/base",
     "model_module_version": "1.2.0",
     "model_name": "LayoutModel",
     "state": {
      "_model_module": "@jupyter-widgets/base",
      "_model_module_version": "1.2.0",
      "_model_name": "LayoutModel",
      "_view_count": null,
      "_view_module": "@jupyter-widgets/base",
      "_view_module_version": "1.2.0",
      "_view_name": "LayoutView",
      "align_content": null,
      "align_items": null,
      "align_self": null,
      "border": null,
      "bottom": null,
      "display": null,
      "flex": null,
      "flex_flow": null,
      "grid_area": null,
      "grid_auto_columns": null,
      "grid_auto_flow": null,
      "grid_auto_rows": null,
      "grid_column": null,
      "grid_gap": null,
      "grid_row": null,
      "grid_template_areas": null,
      "grid_template_columns": null,
      "grid_template_rows": null,
      "height": null,
      "justify_content": null,
      "justify_items": null,
      "left": null,
      "margin": null,
      "max_height": null,
      "max_width": null,
      "min_height": null,
      "min_width": null,
      "object_fit": null,
      "object_position": null,
      "order": null,
      "overflow": null,
      "overflow_x": null,
      "overflow_y": null,
      "padding": null,
      "right": null,
      "top": null,
      "visibility": null,
      "width": null
     }
    },
    "b728e5e94a304ba2a144fd4bc8359998": {
     "model_module": "@jupyter-widgets/controls",
     "model_module_version": "1.5.0",
     "model_name": "DescriptionStyleModel",
     "state": {
      "_model_module": "@jupyter-widgets/controls",
      "_model_module_version": "1.5.0",
      "_model_name": "DescriptionStyleModel",
      "_view_count": null,
      "_view_module": "@jupyter-widgets/base",
      "_view_module_version": "1.2.0",
      "_view_name": "StyleView",
      "description_width": ""
     }
    },
    "c10cc1cf7f834c6bbec4be8f3ecc6212": {
     "model_module": "@jupyter-widgets/controls",
     "model_module_version": "1.5.0",
     "model_name": "HTMLModel",
     "state": {
      "_dom_classes": [],
      "_model_module": "@jupyter-widgets/controls",
      "_model_module_version": "1.5.0",
      "_model_name": "HTMLModel",
      "_view_count": null,
      "_view_module": "@jupyter-widgets/controls",
      "_view_module_version": "1.5.0",
      "_view_name": "HTMLView",
      "description": "",
      "description_tooltip": null,
      "layout": "IPY_MODEL_4da3f2ebb1c249649c6520beeeb179c1",
      "placeholder": "​",
      "style": "IPY_MODEL_9d8fea31cefa40abb2d56f0753e4b182",
      "value": "Downloading (…)olve/main/merges.txt: 100%"
     }
    },
    "c9cd691a5d7749d1b560e0987a7e0bf8": {
     "model_module": "@jupyter-widgets/controls",
     "model_module_version": "1.5.0",
     "model_name": "ProgressStyleModel",
     "state": {
      "_model_module": "@jupyter-widgets/controls",
      "_model_module_version": "1.5.0",
      "_model_name": "ProgressStyleModel",
      "_view_count": null,
      "_view_module": "@jupyter-widgets/base",
      "_view_module_version": "1.2.0",
      "_view_name": "StyleView",
      "bar_color": null,
      "description_width": ""
     }
    },
    "ccb7be982ccb478fb151f55158198677": {
     "model_module": "@jupyter-widgets/base",
     "model_module_version": "1.2.0",
     "model_name": "LayoutModel",
     "state": {
      "_model_module": "@jupyter-widgets/base",
      "_model_module_version": "1.2.0",
      "_model_name": "LayoutModel",
      "_view_count": null,
      "_view_module": "@jupyter-widgets/base",
      "_view_module_version": "1.2.0",
      "_view_name": "LayoutView",
      "align_content": null,
      "align_items": null,
      "align_self": null,
      "border": null,
      "bottom": null,
      "display": null,
      "flex": null,
      "flex_flow": null,
      "grid_area": null,
      "grid_auto_columns": null,
      "grid_auto_flow": null,
      "grid_auto_rows": null,
      "grid_column": null,
      "grid_gap": null,
      "grid_row": null,
      "grid_template_areas": null,
      "grid_template_columns": null,
      "grid_template_rows": null,
      "height": null,
      "justify_content": null,
      "justify_items": null,
      "left": null,
      "margin": null,
      "max_height": null,
      "max_width": null,
      "min_height": null,
      "min_width": null,
      "object_fit": null,
      "object_position": null,
      "order": null,
      "overflow": null,
      "overflow_x": null,
      "overflow_y": null,
      "padding": null,
      "right": null,
      "top": null,
      "visibility": null,
      "width": null
     }
    },
    "cd777e6708e74a04bb1caae9303378d4": {
     "model_module": "@jupyter-widgets/controls",
     "model_module_version": "1.5.0",
     "model_name": "ProgressStyleModel",
     "state": {
      "_model_module": "@jupyter-widgets/controls",
      "_model_module_version": "1.5.0",
      "_model_name": "ProgressStyleModel",
      "_view_count": null,
      "_view_module": "@jupyter-widgets/base",
      "_view_module_version": "1.2.0",
      "_view_name": "StyleView",
      "bar_color": null,
      "description_width": ""
     }
    },
    "d1b2d78b233340f4a8d6e4143980f534": {
     "model_module": "@jupyter-widgets/controls",
     "model_module_version": "1.5.0",
     "model_name": "DescriptionStyleModel",
     "state": {
      "_model_module": "@jupyter-widgets/controls",
      "_model_module_version": "1.5.0",
      "_model_name": "DescriptionStyleModel",
      "_view_count": null,
      "_view_module": "@jupyter-widgets/base",
      "_view_module_version": "1.2.0",
      "_view_name": "StyleView",
      "description_width": ""
     }
    },
    "d23573a471a7439da5fbb7a767749683": {
     "model_module": "@jupyter-widgets/controls",
     "model_module_version": "1.5.0",
     "model_name": "HBoxModel",
     "state": {
      "_dom_classes": [],
      "_model_module": "@jupyter-widgets/controls",
      "_model_module_version": "1.5.0",
      "_model_name": "HBoxModel",
      "_view_count": null,
      "_view_module": "@jupyter-widgets/controls",
      "_view_module_version": "1.5.0",
      "_view_name": "HBoxView",
      "box_style": "",
      "children": [
       "IPY_MODEL_5c772df07ce64d81956410d2642f582c",
       "IPY_MODEL_955f9be26fbe486c9e5faef745cce8e5",
       "IPY_MODEL_a2a9c5ebcd8f4d2bb815727d3834510a"
      ],
      "layout": "IPY_MODEL_0ffe442536fb4514b593e437c8fcf9ef"
     }
    },
    "d421852d08644792a68078fdb44e19db": {
     "model_module": "@jupyter-widgets/controls",
     "model_module_version": "1.5.0",
     "model_name": "HBoxModel",
     "state": {
      "_dom_classes": [],
      "_model_module": "@jupyter-widgets/controls",
      "_model_module_version": "1.5.0",
      "_model_name": "HBoxModel",
      "_view_count": null,
      "_view_module": "@jupyter-widgets/controls",
      "_view_module_version": "1.5.0",
      "_view_name": "HBoxView",
      "box_style": "",
      "children": [
       "IPY_MODEL_5cb149c683d645ea89dc6a22607877a1",
       "IPY_MODEL_647edb84373849c088621104bab11b9c",
       "IPY_MODEL_7f6a45710d8f46b5b2a69f7cd496e9ae"
      ],
      "layout": "IPY_MODEL_714d5ae5b31044c4867c6a76e0521d5c"
     }
    },
    "dc18c181dc284844a0405b4304b6985e": {
     "model_module": "@jupyter-widgets/base",
     "model_module_version": "1.2.0",
     "model_name": "LayoutModel",
     "state": {
      "_model_module": "@jupyter-widgets/base",
      "_model_module_version": "1.2.0",
      "_model_name": "LayoutModel",
      "_view_count": null,
      "_view_module": "@jupyter-widgets/base",
      "_view_module_version": "1.2.0",
      "_view_name": "LayoutView",
      "align_content": null,
      "align_items": null,
      "align_self": null,
      "border": null,
      "bottom": null,
      "display": null,
      "flex": null,
      "flex_flow": null,
      "grid_area": null,
      "grid_auto_columns": null,
      "grid_auto_flow": null,
      "grid_auto_rows": null,
      "grid_column": null,
      "grid_gap": null,
      "grid_row": null,
      "grid_template_areas": null,
      "grid_template_columns": null,
      "grid_template_rows": null,
      "height": null,
      "justify_content": null,
      "justify_items": null,
      "left": null,
      "margin": null,
      "max_height": null,
      "max_width": null,
      "min_height": null,
      "min_width": null,
      "object_fit": null,
      "object_position": null,
      "order": null,
      "overflow": null,
      "overflow_x": null,
      "overflow_y": null,
      "padding": null,
      "right": null,
      "top": null,
      "visibility": null,
      "width": null
     }
    },
    "dddb5076b8564500a3f2f44090ffa9e1": {
     "model_module": "@jupyter-widgets/base",
     "model_module_version": "1.2.0",
     "model_name": "LayoutModel",
     "state": {
      "_model_module": "@jupyter-widgets/base",
      "_model_module_version": "1.2.0",
      "_model_name": "LayoutModel",
      "_view_count": null,
      "_view_module": "@jupyter-widgets/base",
      "_view_module_version": "1.2.0",
      "_view_name": "LayoutView",
      "align_content": null,
      "align_items": null,
      "align_self": null,
      "border": null,
      "bottom": null,
      "display": null,
      "flex": null,
      "flex_flow": null,
      "grid_area": null,
      "grid_auto_columns": null,
      "grid_auto_flow": null,
      "grid_auto_rows": null,
      "grid_column": null,
      "grid_gap": null,
      "grid_row": null,
      "grid_template_areas": null,
      "grid_template_columns": null,
      "grid_template_rows": null,
      "height": null,
      "justify_content": null,
      "justify_items": null,
      "left": null,
      "margin": null,
      "max_height": null,
      "max_width": null,
      "min_height": null,
      "min_width": null,
      "object_fit": null,
      "object_position": null,
      "order": null,
      "overflow": null,
      "overflow_x": null,
      "overflow_y": null,
      "padding": null,
      "right": null,
      "top": null,
      "visibility": null,
      "width": null
     }
    },
    "e04df6aed2ed47688286396ad0759d03": {
     "model_module": "@jupyter-widgets/base",
     "model_module_version": "1.2.0",
     "model_name": "LayoutModel",
     "state": {
      "_model_module": "@jupyter-widgets/base",
      "_model_module_version": "1.2.0",
      "_model_name": "LayoutModel",
      "_view_count": null,
      "_view_module": "@jupyter-widgets/base",
      "_view_module_version": "1.2.0",
      "_view_name": "LayoutView",
      "align_content": null,
      "align_items": null,
      "align_self": null,
      "border": null,
      "bottom": null,
      "display": null,
      "flex": null,
      "flex_flow": null,
      "grid_area": null,
      "grid_auto_columns": null,
      "grid_auto_flow": null,
      "grid_auto_rows": null,
      "grid_column": null,
      "grid_gap": null,
      "grid_row": null,
      "grid_template_areas": null,
      "grid_template_columns": null,
      "grid_template_rows": null,
      "height": null,
      "justify_content": null,
      "justify_items": null,
      "left": null,
      "margin": null,
      "max_height": null,
      "max_width": null,
      "min_height": null,
      "min_width": null,
      "object_fit": null,
      "object_position": null,
      "order": null,
      "overflow": null,
      "overflow_x": null,
      "overflow_y": null,
      "padding": null,
      "right": null,
      "top": null,
      "visibility": null,
      "width": null
     }
    },
    "e40d9a9cc37948818065411870cd6de5": {
     "model_module": "@jupyter-widgets/controls",
     "model_module_version": "1.5.0",
     "model_name": "FloatProgressModel",
     "state": {
      "_dom_classes": [],
      "_model_module": "@jupyter-widgets/controls",
      "_model_module_version": "1.5.0",
      "_model_name": "FloatProgressModel",
      "_view_count": null,
      "_view_module": "@jupyter-widgets/controls",
      "_view_module_version": "1.5.0",
      "_view_name": "ProgressView",
      "bar_style": "success",
      "description": "",
      "description_tooltip": null,
      "layout": "IPY_MODEL_4df102f971f64b8b8a41f02276cbe1e1",
      "max": 548105171,
      "min": 0,
      "orientation": "horizontal",
      "style": "IPY_MODEL_c9cd691a5d7749d1b560e0987a7e0bf8",
      "value": 548105171
     }
    },
    "e806166bdd2a4aeeb598be317af59627": {
     "model_module": "@jupyter-widgets/controls",
     "model_module_version": "1.5.0",
     "model_name": "FloatProgressModel",
     "state": {
      "_dom_classes": [],
      "_model_module": "@jupyter-widgets/controls",
      "_model_module_version": "1.5.0",
      "_model_name": "FloatProgressModel",
      "_view_count": null,
      "_view_module": "@jupyter-widgets/controls",
      "_view_module_version": "1.5.0",
      "_view_name": "ProgressView",
      "bar_style": "success",
      "description": "",
      "description_tooltip": null,
      "layout": "IPY_MODEL_7eee9ebed69146ac856695dce63efb6a",
      "max": 456318,
      "min": 0,
      "orientation": "horizontal",
      "style": "IPY_MODEL_2054ead15d8c4156b380684c15f97963",
      "value": 456318
     }
    },
    "e890b19d9ed748ffa250e9bec06f92af": {
     "model_module": "@jupyter-widgets/controls",
     "model_module_version": "1.5.0",
     "model_name": "ProgressStyleModel",
     "state": {
      "_model_module": "@jupyter-widgets/controls",
      "_model_module_version": "1.5.0",
      "_model_name": "ProgressStyleModel",
      "_view_count": null,
      "_view_module": "@jupyter-widgets/base",
      "_view_module_version": "1.2.0",
      "_view_name": "StyleView",
      "bar_color": null,
      "description_width": ""
     }
    },
    "e8e35271b1e5436bbe6766f9da3f2ff0": {
     "model_module": "@jupyter-widgets/controls",
     "model_module_version": "1.5.0",
     "model_name": "HTMLModel",
     "state": {
      "_dom_classes": [],
      "_model_module": "@jupyter-widgets/controls",
      "_model_module_version": "1.5.0",
      "_model_name": "HTMLModel",
      "_view_count": null,
      "_view_module": "@jupyter-widgets/controls",
      "_view_module_version": "1.5.0",
      "_view_name": "HTMLView",
      "description": "",
      "description_tooltip": null,
      "layout": "IPY_MODEL_958b1c54df9e44759fc609e1c72f8122",
      "placeholder": "​",
      "style": "IPY_MODEL_26c031ced94a4186b51d00ae94a528ff",
      "value": " 124/124 [00:00&lt;00:00, 9.42kB/s]"
     }
    },
    "f0a14221b1914725b783d4979af683c5": {
     "model_module": "@jupyter-widgets/controls",
     "model_module_version": "1.5.0",
     "model_name": "FloatProgressModel",
     "state": {
      "_dom_classes": [],
      "_model_module": "@jupyter-widgets/controls",
      "_model_module_version": "1.5.0",
      "_model_name": "FloatProgressModel",
      "_view_count": null,
      "_view_module": "@jupyter-widgets/controls",
      "_view_module_version": "1.5.0",
      "_view_name": "ProgressView",
      "bar_style": "success",
      "description": "",
      "description_tooltip": null,
      "layout": "IPY_MODEL_dddb5076b8564500a3f2f44090ffa9e1",
      "max": 1042301,
      "min": 0,
      "orientation": "horizontal",
      "style": "IPY_MODEL_5b7e18aaefc74cc89395606e681313ee",
      "value": 1042301
     }
    },
    "f3f92dfee8934a6db6fb85f091d395cb": {
     "model_module": "@jupyter-widgets/base",
     "model_module_version": "1.2.0",
     "model_name": "LayoutModel",
     "state": {
      "_model_module": "@jupyter-widgets/base",
      "_model_module_version": "1.2.0",
      "_model_name": "LayoutModel",
      "_view_count": null,
      "_view_module": "@jupyter-widgets/base",
      "_view_module_version": "1.2.0",
      "_view_name": "LayoutView",
      "align_content": null,
      "align_items": null,
      "align_self": null,
      "border": null,
      "bottom": null,
      "display": null,
      "flex": null,
      "flex_flow": null,
      "grid_area": null,
      "grid_auto_columns": null,
      "grid_auto_flow": null,
      "grid_auto_rows": null,
      "grid_column": null,
      "grid_gap": null,
      "grid_row": null,
      "grid_template_areas": null,
      "grid_template_columns": null,
      "grid_template_rows": null,
      "height": null,
      "justify_content": null,
      "justify_items": null,
      "left": null,
      "margin": null,
      "max_height": null,
      "max_width": null,
      "min_height": null,
      "min_width": null,
      "object_fit": null,
      "object_position": null,
      "order": null,
      "overflow": null,
      "overflow_x": null,
      "overflow_y": null,
      "padding": null,
      "right": null,
      "top": null,
      "visibility": null,
      "width": null
     }
    },
    "f9fd1ce2144044408688a8be8b80ba70": {
     "model_module": "@jupyter-widgets/controls",
     "model_module_version": "1.5.0",
     "model_name": "DescriptionStyleModel",
     "state": {
      "_model_module": "@jupyter-widgets/controls",
      "_model_module_version": "1.5.0",
      "_model_name": "DescriptionStyleModel",
      "_view_count": null,
      "_view_module": "@jupyter-widgets/base",
      "_view_module_version": "1.2.0",
      "_view_name": "StyleView",
      "description_width": ""
     }
    }
   }
  }
 },
 "nbformat": 4,
 "nbformat_minor": 5
}
