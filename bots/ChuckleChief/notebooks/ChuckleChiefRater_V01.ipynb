{
 "cells": [
  {
   "cell_type": "markdown",
   "id": "460a9e70-134d-4384-a47a-f2e2cdb4e95d",
   "metadata": {},
   "source": [
    "### Introduction"
   ]
  },
  {
   "cell_type": "markdown",
   "id": "d2c69044-33b1-4068-9a0a-afb86abfd104",
   "metadata": {},
   "source": [
    "Training a model to accurately rate jokes can be challenging due to several reasons. Firstly, humour is highly subjective, varying greatly from person to person. Additionally, humour is context-dependent, making it challenging for an AI system to understand and replicate effectively. Jokes often rely on wordplay, sarcasm, and cultural references, which further complicates the task. \n",
    "\n",
    "In this section of the project, the focus is on fine-tuning the `distilbert-base-uncased` model on a custom dataset for predicting the rating for jokes. `distilbert-base-uncased` is a powerful language model that has been pre-trained on a massive corpus of text data. This pre-training equips the model with a strong understanding of language and context. By fine-tuning the model specifically for joke rating, we can leverage its language comprehension capabilities to generate ratings. \n",
    "\n",
    "The generated ratings can provide a helpful reference but should not be taken as an absolute measure of a joke's comedic worth."
   ]
  },
  {
   "cell_type": "markdown",
   "id": "934d190f-1cbd-4113-ac38-c47f231ccc5f",
   "metadata": {
    "id": "934d190f-1cbd-4113-ac38-c47f231ccc5f"
   },
   "source": [
    "### Install and Import Dependencies"
   ]
  },
  {
   "cell_type": "code",
   "execution_count": null,
   "id": "b5Lw7zBxiQEA",
   "metadata": {
    "id": "b5Lw7zBxiQEA"
   },
   "outputs": [],
   "source": [
    "!pip install accelerate -U datasets transformers"
   ]
  },
  {
   "cell_type": "code",
   "execution_count": null,
   "id": "EGeb9eJdiUhI",
   "metadata": {
    "id": "EGeb9eJdiUhI"
   },
   "outputs": [],
   "source": [
    "import nltk\n",
    "nltk.download(\"vader_lexicon\")"
   ]
  },
  {
   "cell_type": "code",
   "execution_count": null,
   "id": "fdd4ff47-e861-42b8-b6f8-36a04c83e3c5",
   "metadata": {
    "id": "fdd4ff47-e861-42b8-b6f8-36a04c83e3c5"
   },
   "outputs": [],
   "source": [
    "import os\n",
    "import random\n",
    "\n",
    "import numpy as np\n",
    "import pandas as pd\n",
    "import torch\n",
    "from nltk.sentiment.vader import SentimentIntensityAnalyzer\n",
    "from sklearn.model_selection import train_test_split\n",
    "from tqdm import tqdm\n",
    "from transformers import (\n",
    "    DistilBertForSequenceClassification,\n",
    "    DistilBertTokenizer,\n",
    "    EarlyStoppingCallback,\n",
    "    IntervalStrategy,\n",
    "    Trainer,\n",
    "    TrainingArguments\n",
    ")\n",
    "\n",
    "from datasets import Dataset"
   ]
  },
  {
   "cell_type": "code",
   "execution_count": null,
   "id": "_1Svzg7vieu5",
   "metadata": {
    "colab": {
     "base_uri": "https://localhost:8080/"
    },
    "id": "_1Svzg7vieu5",
    "outputId": "456671e9-effe-4c71-df44-4840ca5d3b6b"
   },
   "outputs": [],
   "source": [
    "from google.colab import drive\n",
    "drive.mount(\"/content/drive/\")"
   ]
  },
  {
   "cell_type": "markdown",
   "id": "27627307-d19f-4b6f-ac76-ec06f33e7804",
   "metadata": {
    "id": "27627307-d19f-4b6f-ac76-ec06f33e7804"
   },
   "source": [
    "### Load Data"
   ]
  },
  {
   "cell_type": "code",
   "execution_count": null,
   "id": "4beeb282-4510-4132-91c5-cd3183e3c9eb",
   "metadata": {
    "id": "4beeb282-4510-4132-91c5-cd3183e3c9eb"
   },
   "outputs": [],
   "source": [
    "df = pd.read_csv(\"../datasets/clean_jokes_2.csv\")"
   ]
  },
  {
   "cell_type": "markdown",
   "id": "9d0d0fb7-1034-4b3e-9a7b-632a2169ef0c",
   "metadata": {
    "id": "9d0d0fb7-1034-4b3e-9a7b-632a2169ef0c"
   },
   "source": [
    "### Rate Jokes"
   ]
  },
  {
   "cell_type": "markdown",
   "id": "1c2762c5-1b10-41ce-85a1-f0157d18fe3d",
   "metadata": {
    "id": "1c2762c5-1b10-41ce-85a1-f0157d18fe3d"
   },
   "source": [
    "We are using the VADER (Valence Aware Dictionary and sEntiment Reasoner) sentiment analyser to generate sentiment scores for each joke and map the compound score in the range [-1, 1] to a 1-10 rating scale. First, by adding 1, we shift the range to [0, 2] and then multiply by 5 to scale the range to [0, 10]. We ensure that the rating is at least 1. Here, we are leveraging the scaled sentiment scores to produce target ratings for this dataset."
   ]
  },
  {
   "cell_type": "code",
   "execution_count": null,
   "id": "f908d235-df87-41bd-a4ab-b5ef37d37670",
   "metadata": {
    "id": "f908d235-df87-41bd-a4ab-b5ef37d37670"
   },
   "outputs": [],
   "source": [
    "analyser = SentimentIntensityAnalyzer()"
   ]
  },
  {
   "cell_type": "code",
   "execution_count": null,
   "id": "12f33317-49cf-4e9b-b7f6-9656ec47f4ce",
   "metadata": {
    "id": "12f33317-49cf-4e9b-b7f6-9656ec47f4ce"
   },
   "outputs": [],
   "source": [
    "def rate_joke(joke):\n",
    "    \"\"\"Rates a joke on a scale of 1-10 based on its sentiment.\"\"\"\n",
    "    scores = analyser.polarity_scores(joke)\n",
    "    rating = round((scores[\"compound\"] + 1) * 5)\n",
    "    rating = max(rating, 1)\n",
    "    return rating"
   ]
  },
  {
   "cell_type": "code",
   "execution_count": null,
   "id": "537ac8ab-8f8a-4c9c-86c9-932a4232707d",
   "metadata": {
    "id": "537ac8ab-8f8a-4c9c-86c9-932a4232707d"
   },
   "outputs": [],
   "source": [
    "tqdm.pandas(desc=\"Rating jokes\")"
   ]
  },
  {
   "cell_type": "code",
   "execution_count": null,
   "id": "ab7fd605-fe98-4ce4-b33e-eecfb8962f46",
   "metadata": {
    "colab": {
     "base_uri": "https://localhost:8080/"
    },
    "id": "ab7fd605-fe98-4ce4-b33e-eecfb8962f46",
    "outputId": "95863029-8089-477f-f874-0d6dd13322db"
   },
   "outputs": [],
   "source": [
    "df[\"ratings\"] = df[\"jokes\"].progress_apply(rate_joke)\n",
    "df[\"ratings\"] = df[\"ratings\"].astype(float)"
   ]
  },
  {
   "cell_type": "markdown",
   "id": "a06b7ca2-c3ac-4e6c-9717-6029b2ceaf33",
   "metadata": {
    "id": "a06b7ca2-c3ac-4e6c-9717-6029b2ceaf33"
   },
   "source": [
    "### Train Test Split"
   ]
  },
  {
   "cell_type": "code",
   "execution_count": null,
   "id": "57bbd18c-2313-42e6-9271-6f3261ed1878",
   "metadata": {
    "id": "57bbd18c-2313-42e6-9271-6f3261ed1878"
   },
   "outputs": [],
   "source": [
    "train_df, test_df = train_test_split(df, test_size=0.1, random_state=1)\n",
    "train_df, val_df = train_test_split(train_df, test_size=len(test_df), random_state=1)"
   ]
  },
  {
   "cell_type": "code",
   "execution_count": null,
   "id": "6e85354c-03c5-41ac-80af-df2e2f3404ad",
   "metadata": {
    "colab": {
     "base_uri": "https://localhost:8080/"
    },
    "id": "6e85354c-03c5-41ac-80af-df2e2f3404ad",
    "outputId": "03cbfbe0-febc-4558-c6bc-ca6c6f8a5343"
   },
   "outputs": [],
   "source": [
    "train_df.shape, test_df.shape, val_df.shape"
   ]
  },
  {
   "cell_type": "markdown",
   "id": "f82fd36c-1312-43e5-9873-30c76123acf8",
   "metadata": {
    "id": "f82fd36c-1312-43e5-9873-30c76123acf8"
   },
   "source": [
    "### Load Model and Tokeniser"
   ]
  },
  {
   "cell_type": "code",
   "execution_count": null,
   "id": "Cy1A6OBFjRuD",
   "metadata": {
    "colab": {
     "base_uri": "https://localhost:8080/",
     "height": 200,
     "referenced_widgets": [
      "6e03064c87a84e068d7b2560c72835ff",
      "c2a59f41f42247c28b4790bd9b5d85c2",
      "7bea92d26c4b466590962d60993ff83c",
      "39b5b02cc3f54829afb1d8f406d01745",
      "cc5437a5d35e43b0a2a38f0ee7b8cd0c",
      "1f5f8a5ddf3744edae0ca3b4d8c981d7",
      "877969d6a80d479ea933942ad175f002",
      "3e358d1b9f624dce88893315adda58c9",
      "187e9534d208421ea28ead63d0f9333f",
      "ebab70d88aff42bb86ecd4de312a2182",
      "46770dce320b401dbf5d2b5940d41b7f",
      "ab7485782b79461384d41bb2207357b0",
      "f0a2456652c5494cbdc0f43aa067e0d6",
      "5579729fcac14322ad147c2868a1730c",
      "378bd3d3b8b545488b83a3c41926e379",
      "fff6fab3a147463c86b82e41ee646351",
      "c68375eaf3ab48c88402a8a81132e59e",
      "e3f51f5d1a1541339e0988d7a7657328",
      "60870cf0b69e4bf69a683358f8d5e456",
      "f95090e8f3a04518885c48259ec1d3fe",
      "6d4a1dcb16b14e31a8b7902d57128b9d",
      "0e698c7c3c0f4957863cb244e3388e51",
      "856b84e33d394e2eb739bfc67e9226f3",
      "a1aa210f2ea44af49c8759a959e735f7",
      "ff81117d634d452bb908f1ace53cd0a2",
      "86ba4009292c4023ad07f0653e08e75f",
      "43897428a6074852be69ebe1d824f136",
      "bf4726d3584d4f15ac0693fc521ce37e",
      "80b3e7d5691342fd81a41e4515107a86",
      "3a30f45aae8e4784ae6012795a39b25e",
      "589ff472fe004b75b7a7f6796fd1844e",
      "23e9c8736f8e48b69e32674d298231a4",
      "bd50c9eee5c94a868d0e21a21d94b66f",
      "1f311b5b0ede4954848baf1d1f99ae3b",
      "b6444e675b61481ca63c79e4fc27e73c",
      "b264e9af4f064165b0304cd8aa80a90a",
      "5c0a1c1c0de6405b8116145ef03e128d",
      "8faac9fe809849269ddf2530dfaef1be",
      "4caf471fcd984a428f67623069987d75",
      "a74f8d289b3942c19f20ee5c13d591d8",
      "97c5d47bfac84a43a56fd3e4b054f74e",
      "68c43df0cda54b46bbc7ecb21bf9e4ed",
      "f2a5e81a93454333adc99fbfb0d37ed8",
      "5b895dde012c4049b9e397e6ccf520d0"
     ]
    },
    "id": "Cy1A6OBFjRuD",
    "outputId": "9f34372d-050e-4a03-88d2-5144e3abfdf2"
   },
   "outputs": [],
   "source": [
    "checkpoint = \"distilbert-base-uncased\"\n",
    "tokeniser = DistilBertTokenizer.from_pretrained(checkpoint)\n",
    "model = DistilBertForSequenceClassification.from_pretrained(checkpoint, num_labels=1)"
   ]
  },
  {
   "cell_type": "markdown",
   "id": "mfrRb3D_7bc6",
   "metadata": {
    "id": "mfrRb3D_7bc6"
   },
   "source": [
    "### Preprocess Data"
   ]
  },
  {
   "cell_type": "code",
   "execution_count": null,
   "id": "XAxZ3oKo9wnf",
   "metadata": {
    "id": "XAxZ3oKo9wnf"
   },
   "outputs": [],
   "source": [
    "def tokenise_data(tokeniser, df):\n",
    "    \"\"\"Tokenise data.\"\"\"\n",
    "    encodings = tokeniser(list(df[\"jokes\"]), truncation=True, padding=True)\n",
    "    return encodings\n",
    "\n",
    "\n",
    "train_encodings = tokenise_data(tokeniser, train_df)\n",
    "val_encodings = tokenise_data(tokeniser, val_df)\n",
    "test_encodings = tokenise_data(tokeniser, test_df)"
   ]
  },
  {
   "cell_type": "code",
   "execution_count": null,
   "id": "pQJ3QTPV-eqJ",
   "metadata": {
    "id": "pQJ3QTPV-eqJ"
   },
   "outputs": [],
   "source": [
    "def create_dataset(encodings, ratings):\n",
    "    \"\"\"Create dataset.\"\"\"\n",
    "    input_ids = torch.tensor(encodings[\"input_ids\"], dtype=torch.long)\n",
    "    attention_mask = torch.tensor(encodings[\"attention_mask\"], dtype=torch.float)\n",
    "    labels = torch.tensor(ratings.values, dtype=torch.float)\n",
    "\n",
    "    dataset = torch.utils.data.TensorDataset(input_ids, attention_mask, labels)\n",
    "    return dataset\n",
    "\n",
    "\n",
    "train_dataset = create_dataset(train_encodings, train_df[\"ratings\"])\n",
    "val_dataset = create_dataset(val_encodings, val_df[\"ratings\"])\n",
    "test_dataset = create_dataset(test_encodings, test_df[\"ratings\"])"
   ]
  },
  {
   "cell_type": "markdown",
   "id": "RPRywHRh7noI",
   "metadata": {
    "id": "RPRywHRh7noI"
   },
   "source": [
    "### Evaluation Metrics"
   ]
  },
  {
   "cell_type": "code",
   "execution_count": null,
   "id": "tJ_nOrTNkGqM",
   "metadata": {
    "id": "tJ_nOrTNkGqM"
   },
   "outputs": [],
   "source": [
    "def compute_metrics(eval_pred):\n",
    "    \"\"\"Compute evaluation metrics.\"\"\"\n",
    "    predictions, labels = eval_pred.predictions, eval_pred.label_ids\n",
    "\n",
    "    mse = np.mean((predictions - labels) ** 2)\n",
    "    rmse = np.sqrt(mse)\n",
    "    mae = np.mean(np.abs(predictions - labels))\n",
    "\n",
    "    return {\"mse\": mse, \"rmse\": rmse, \"mae\": mae}"
   ]
  },
  {
   "cell_type": "markdown",
   "id": "hSw3f0D27t0Q",
   "metadata": {
    "id": "hSw3f0D27t0Q"
   },
   "source": [
    "### Set up the Training Arguments and Data Collator"
   ]
  },
  {
   "cell_type": "code",
   "execution_count": null,
   "id": "n43l0T-im3p_",
   "metadata": {
    "id": "n43l0T-im3p_"
   },
   "outputs": [],
   "source": [
    "model_path = \"./ChuckleChiefRater\"\n",
    "\n",
    "training_args = TrainingArguments(\n",
    "    output_dir=model_path,\n",
    "    num_train_epochs=4,\n",
    "    per_device_train_batch_size=8,\n",
    "    per_device_eval_batch_size=8,\n",
    "    learning_rate=2e-5,\n",
    "    weight_decay=0.01,\n",
    "    logging_dir=model_path,\n",
    "    prediction_loss_only=False,\n",
    "    evaluation_strategy=IntervalStrategy.STEPS,\n",
    "    eval_steps=500,\n",
    "    save_steps=2000,\n",
    "    save_total_limit=2,\n",
    "    load_best_model_at_end=True\n",
    ")\n",
    "\n",
    "data_collator = lambda features: {\n",
    "    \"input_ids\": torch.stack([f[0] for f in features]),\n",
    "    \"attention_mask\": torch.stack([f[1] for f in features]),\n",
    "    \"labels\": torch.stack([f[2] for f in features])\n",
    "}"
   ]
  },
  {
   "cell_type": "markdown",
   "id": "INNWn1YX71ui",
   "metadata": {
    "id": "INNWn1YX71ui"
   },
   "source": [
    "### Train the Model"
   ]
  },
  {
   "cell_type": "code",
   "execution_count": null,
   "id": "3fQOpk1qm3nq",
   "metadata": {
    "id": "3fQOpk1qm3nq"
   },
   "outputs": [],
   "source": [
    "torch.cuda.empty_cache()"
   ]
  },
  {
   "cell_type": "code",
   "execution_count": 20,
   "id": "Q_Ok5Alnm3lV",
   "metadata": {
    "colab": {
     "base_uri": "https://localhost:8080/",
     "height": 693
    },
    "id": "Q_Ok5Alnm3lV",
    "outputId": "dcb48064-595c-4c00-b729-23714b35ed24"
   },
   "outputs": [
    {
     "metadata": {
      "tags": null
     },
     "name": "stderr",
     "output_type": "stream",
     "text": [
      "/usr/local/lib/python3.10/dist-packages/transformers/optimization.py:411: FutureWarning: This implementation of AdamW is deprecated and will be removed in a future version. Use the PyTorch implementation torch.optim.AdamW instead, or set `no_deprecation_warning=True` to disable this warning\n",
      "  warnings.warn(\n"
     ]
    },
    {
     "data": {
      "text/html": [
       "\n",
       "    <div>\n",
       "      \n",
       "      <progress value='3456' max='4784' style='width:300px; height:20px; vertical-align: middle;'></progress>\n",
       "      [3456/4784 22:38 < 08:42, 2.54 it/s, Epoch 2.89/4]\n",
       "    </div>\n",
       "    <table border=\"1\" class=\"dataframe\">\n",
       "  <thead>\n",
       " <tr style=\"text-align: left;\">\n",
       "      <th>Step</th>\n",
       "      <th>Training Loss</th>\n",
       "      <th>Validation Loss</th>\n",
       "      <th>Mse</th>\n",
       "      <th>Rmse</th>\n",
       "      <th>Mae</th>\n",
       "    </tr>\n",
       "  </thead>\n",
       "  <tbody>\n",
       "    <tr>\n",
       "      <td>500</td>\n",
       "      <td>4.687900</td>\n",
       "      <td>2.334007</td>\n",
       "      <td>6.614991</td>\n",
       "      <td>2.571963</td>\n",
       "      <td>2.069519</td>\n",
       "    </tr>\n",
       "    <tr>\n",
       "      <td>1000</td>\n",
       "      <td>2.087100</td>\n",
       "      <td>1.648909</td>\n",
       "      <td>6.806559</td>\n",
       "      <td>2.608938</td>\n",
       "      <td>2.062700</td>\n",
       "    </tr>\n",
       "    <tr>\n",
       "      <td>1500</td>\n",
       "      <td>1.405600</td>\n",
       "      <td>1.420838</td>\n",
       "      <td>7.791146</td>\n",
       "      <td>2.791262</td>\n",
       "      <td>2.205038</td>\n",
       "    </tr>\n",
       "    <tr>\n",
       "      <td>2000</td>\n",
       "      <td>1.167900</td>\n",
       "      <td>1.378124</td>\n",
       "      <td>8.595682</td>\n",
       "      <td>2.931839</td>\n",
       "      <td>2.321136</td>\n",
       "    </tr>\n",
       "    <tr>\n",
       "      <td>2500</td>\n",
       "      <td>0.945800</td>\n",
       "      <td>1.154988</td>\n",
       "      <td>8.322764</td>\n",
       "      <td>2.884920</td>\n",
       "      <td>2.288404</td>\n",
       "    </tr>\n",
       "    <tr>\n",
       "      <td>3000</td>\n",
       "      <td>0.680900</td>\n",
       "      <td>1.027863</td>\n",
       "      <td>8.051106</td>\n",
       "      <td>2.837447</td>\n",
       "      <td>2.238993</td>\n",
       "    </tr>\n",
       "  </tbody>\n",
       "</table><p>"
      ],
      "text/plain": [
       "<IPython.core.display.HTML object>"
      ]
     },
     "metadata": {},
     "output_type": "display_data"
    },
    {
     "data": {
      "text/html": [
       "\n",
       "    <div>\n",
       "      \n",
       "      <progress value='4784' max='4784' style='width:300px; height:20px; vertical-align: middle;'></progress>\n",
       "      [4784/4784 31:38, Epoch 4/4]\n",
       "    </div>\n",
       "    <table border=\"1\" class=\"dataframe\">\n",
       "  <thead>\n",
       " <tr style=\"text-align: left;\">\n",
       "      <th>Step</th>\n",
       "      <th>Training Loss</th>\n",
       "      <th>Validation Loss</th>\n",
       "      <th>Mse</th>\n",
       "      <th>Rmse</th>\n",
       "      <th>Mae</th>\n",
       "    </tr>\n",
       "  </thead>\n",
       "  <tbody>\n",
       "    <tr>\n",
       "      <td>500</td>\n",
       "      <td>4.687900</td>\n",
       "      <td>2.334007</td>\n",
       "      <td>6.614991</td>\n",
       "      <td>2.571963</td>\n",
       "      <td>2.069519</td>\n",
       "    </tr>\n",
       "    <tr>\n",
       "      <td>1000</td>\n",
       "      <td>2.087100</td>\n",
       "      <td>1.648909</td>\n",
       "      <td>6.806559</td>\n",
       "      <td>2.608938</td>\n",
       "      <td>2.062700</td>\n",
       "    </tr>\n",
       "    <tr>\n",
       "      <td>1500</td>\n",
       "      <td>1.405600</td>\n",
       "      <td>1.420838</td>\n",
       "      <td>7.791146</td>\n",
       "      <td>2.791262</td>\n",
       "      <td>2.205038</td>\n",
       "    </tr>\n",
       "    <tr>\n",
       "      <td>2000</td>\n",
       "      <td>1.167900</td>\n",
       "      <td>1.378124</td>\n",
       "      <td>8.595682</td>\n",
       "      <td>2.931839</td>\n",
       "      <td>2.321136</td>\n",
       "    </tr>\n",
       "    <tr>\n",
       "      <td>2500</td>\n",
       "      <td>0.945800</td>\n",
       "      <td>1.154988</td>\n",
       "      <td>8.322764</td>\n",
       "      <td>2.884920</td>\n",
       "      <td>2.288404</td>\n",
       "    </tr>\n",
       "    <tr>\n",
       "      <td>3000</td>\n",
       "      <td>0.680900</td>\n",
       "      <td>1.027863</td>\n",
       "      <td>8.051106</td>\n",
       "      <td>2.837447</td>\n",
       "      <td>2.238993</td>\n",
       "    </tr>\n",
       "    <tr>\n",
       "      <td>3500</td>\n",
       "      <td>0.670800</td>\n",
       "      <td>0.977394</td>\n",
       "      <td>7.807900</td>\n",
       "      <td>2.794262</td>\n",
       "      <td>2.202772</td>\n",
       "    </tr>\n",
       "    <tr>\n",
       "      <td>4000</td>\n",
       "      <td>0.497000</td>\n",
       "      <td>0.965505</td>\n",
       "      <td>8.102925</td>\n",
       "      <td>2.846564</td>\n",
       "      <td>2.251322</td>\n",
       "    </tr>\n",
       "    <tr>\n",
       "      <td>4500</td>\n",
       "      <td>0.457300</td>\n",
       "      <td>0.956578</td>\n",
       "      <td>8.111990</td>\n",
       "      <td>2.848155</td>\n",
       "      <td>2.248373</td>\n",
       "    </tr>\n",
       "  </tbody>\n",
       "</table><p>"
      ],
      "text/plain": [
       "<IPython.core.display.HTML object>"
      ]
     },
     "metadata": {},
     "output_type": "display_data"
    },
    {
     "data": {
      "text/plain": [
       "TrainOutput(global_step=4784, training_loss=1.3447293501633863, metrics={'train_runtime': 1901.8502, 'train_samples_per_second': 20.111, 'train_steps_per_second': 2.515, 'total_flos': 5066522707943424.0, 'train_loss': 1.3447293501633863, 'epoch': 4.0})"
      ]
     },
     "execution_count": 20,
     "metadata": {},
     "output_type": "execute_result"
    }
   ],
   "source": [
    "trainer = Trainer(\n",
    "    model=model,\n",
    "    args=training_args,\n",
    "    data_collator=data_collator,\n",
    "    train_dataset=train_dataset,\n",
    "    eval_dataset=val_dataset,\n",
    "    callbacks = [EarlyStoppingCallback(early_stopping_patience=2)],\n",
    "    compute_metrics=compute_metrics\n",
    ")\n",
    "\n",
    "trainer.train()"
   ]
  },
  {
   "cell_type": "markdown",
   "id": "1749165a-f0bf-41e6-aa41-6351b5ee95ba",
   "metadata": {
    "id": "1749165a-f0bf-41e6-aa41-6351b5ee95ba"
   },
   "source": [
    "### Evaluate the Model\n"
   ]
  },
  {
   "cell_type": "code",
   "execution_count": 21,
   "id": "VMIHZXhrS_D6",
   "metadata": {
    "colab": {
     "base_uri": "https://localhost:8080/",
     "height": 176
    },
    "id": "VMIHZXhrS_D6",
    "outputId": "cd8360f5-a45b-41d1-f840-586d4274c7a9"
   },
   "outputs": [
    {
     "data": {
      "text/html": [
       "\n",
       "    <div>\n",
       "      \n",
       "      <progress value='150' max='150' style='width:300px; height:20px; vertical-align: middle;'></progress>\n",
       "      [150/150 00:17]\n",
       "    </div>\n",
       "    "
      ],
      "text/plain": [
       "<IPython.core.display.HTML object>"
      ]
     },
     "metadata": {},
     "output_type": "display_data"
    },
    {
     "data": {
      "text/plain": [
       "{'eval_loss': 1.0274949073791504,\n",
       " 'eval_mse': 8.364996910095215,\n",
       " 'eval_rmse': 2.89223051071167,\n",
       " 'eval_mae': 2.2968695163726807,\n",
       " 'eval_runtime': 17.8778,\n",
       " 'eval_samples_per_second': 66.899,\n",
       " 'eval_steps_per_second': 8.39,\n",
       " 'epoch': 4.0}"
      ]
     },
     "execution_count": 21,
     "metadata": {},
     "output_type": "execute_result"
    }
   ],
   "source": [
    "trainer.evaluate(test_dataset)"
   ]
  },
  {
   "cell_type": "markdown",
   "id": "25fe9a92-aec4-4647-ac2a-bbc642ef7a40",
   "metadata": {
    "id": "25fe9a92-aec4-4647-ac2a-bbc642ef7a40"
   },
   "source": [
    "### Save the Model\n"
   ]
  },
  {
   "cell_type": "code",
   "execution_count": null,
   "id": "3289dfbb-0e8e-488d-9eb1-4e0f7e0739bb",
   "metadata": {
    "colab": {
     "base_uri": "https://localhost:8080/"
    },
    "id": "3289dfbb-0e8e-488d-9eb1-4e0f7e0739bb",
    "outputId": "f8727e1f-ce02-4d0a-a2e8-9f0e6a8af424"
   },
   "outputs": [],
   "source": [
    "new_model_path = os.path.join(model_path, \"model\")\n",
    "if not os.path.exists(new_model_path):\n",
    "    os.makedirs(new_model_path)\n",
    "\n",
    "trainer.save_model(new_model_path)\n",
    "tokeniser.save_pretrained(new_model_path)"
   ]
  },
  {
   "cell_type": "markdown",
   "id": "501d1b8c-0c57-4510-bc67-42d0198298b8",
   "metadata": {
    "id": "501d1b8c-0c57-4510-bc67-42d0198298b8"
   },
   "source": [
    "### Rate Jokes"
   ]
  },
  {
   "cell_type": "code",
   "execution_count": null,
   "id": "514b1313-3069-46f0-b0ed-22967000dbf9",
   "metadata": {
    "id": "514b1313-3069-46f0-b0ed-22967000dbf9"
   },
   "outputs": [],
   "source": [
    "loaded_model = DistilBertForSequenceClassification.from_pretrained(new_model_path)\n",
    "loaded_tokeniser = DistilBertTokenizer.from_pretrained(new_model_path)"
   ]
  },
  {
   "cell_type": "code",
   "execution_count": null,
   "id": "5ZTlBvXgm3i-",
   "metadata": {
    "id": "5ZTlBvXgm3i-"
   },
   "outputs": [],
   "source": [
    "def predict_rating(model, tokeniser, joke):\n",
    "    encoding = tokeniser.encode_plus(\n",
    "        joke, truncation=True, padding=True, return_tensors=\"pt\"\n",
    "    )\n",
    "\n",
    "    input_ids = encoding[\"input_ids\"].to(model.device)\n",
    "    attention_mask = encoding[\"attention_mask\"].to(model.device)\n",
    "\n",
    "    model.eval()\n",
    "    with torch.no_grad():\n",
    "        outputs = model(input_ids, attention_mask=attention_mask)\n",
    "\n",
    "    predictions = outputs.logits.item()\n",
    "\n",
    "    return predictions"
   ]
  },
  {
   "cell_type": "code",
   "execution_count": null,
   "id": "Pn9_MxV6kGlP",
   "metadata": {
    "id": "Pn9_MxV6kGlP"
   },
   "outputs": [],
   "source": [
    "jokes = [\n",
    "    \"Why don't scientists trust atoms? Because they make up everything!\",\n",
    "    \"Why don't skeletons fight each other? They don't have the guts!\",\n",
    "    \"What do you call a fish with no eyes? Fsh!\",\n",
    "    \"Why did the scarecrow win an award? Because he was outstanding in his field!\",\n",
    "    \"Why don't eggs tell jokes? Because they might crack up!\",\n",
    "    \"What do you call fake spaghetti? An impasta!\",\n",
    "    \"Why did the computer go to the doctor? Because it had a virus!\",\n",
    "    \"What do you call a bear with no teeth? A gummy bear!\",\n",
    "    \"Why did the math book look sad? Because it had too many problems!\"\n",
    "]"
   ]
  },
  {
   "cell_type": "code",
   "execution_count": 26,
   "id": "DVHSyYZUjRrt",
   "metadata": {
    "colab": {
     "base_uri": "https://localhost:8080/"
    },
    "id": "DVHSyYZUjRrt",
    "outputId": "bb072e63-4507-443e-85a9-f0d614b80c06"
   },
   "outputs": [
    {
     "name": "stdout",
     "output_type": "stream",
     "text": [
      "Why don't scientists trust atoms? Because they make up everything! 5.096904277801514\n",
      "Why don't skeletons fight each other? They don't have the guts! 4.697202682495117\n",
      "What do you call a fish with no eyes? Fsh! 3.0918586254119873\n",
      "Why did the scarecrow win an award? Because he was outstanding in his field! 9.265880584716797\n",
      "Why don't eggs tell jokes? Because they might crack up! 5.2596869468688965\n",
      "What do you call fake spaghetti? An impasta! 2.6296956539154053\n",
      "Why did the computer go to the doctor? Because it had a virus! 5.1471662521362305\n",
      "What do you call a bear with no teeth? A gummy bear! 3.020991325378418\n",
      "Why did the math book look sad? Because it had too many problems! 1.6071512699127197\n"
     ]
    }
   ],
   "source": [
    "ratings = [predict_rating(model, tokeniser, joke) for joke in jokes]\n",
    "\n",
    "for i in range(len(jokes)):\n",
    "    print(jokes[i], ratings[i])"
   ]
  }
 ],
 "metadata": {
  "accelerator": "GPU",
  "colab": {
   "gpuType": "T4",
   "provenance": []
  },
  "kernelspec": {
   "display_name": "Python 3 (ipykernel)",
   "language": "python",
   "name": "python3"
  },
  "language_info": {
   "codemirror_mode": {
    "name": "ipython",
    "version": 3
   },
   "file_extension": ".py",
   "mimetype": "text/x-python",
   "name": "python",
   "nbconvert_exporter": "python",
   "pygments_lexer": "ipython3",
   "version": "3.8.15"
  },
  "widgets": {
   "application/vnd.jupyter.widget-state+json": {
    "0e698c7c3c0f4957863cb244e3388e51": {
     "model_module": "@jupyter-widgets/controls",
     "model_module_version": "1.5.0",
     "model_name": "DescriptionStyleModel",
     "state": {
      "_model_module": "@jupyter-widgets/controls",
      "_model_module_version": "1.5.0",
      "_model_name": "DescriptionStyleModel",
      "_view_count": null,
      "_view_module": "@jupyter-widgets/base",
      "_view_module_version": "1.2.0",
      "_view_name": "StyleView",
      "description_width": ""
     }
    },
    "187e9534d208421ea28ead63d0f9333f": {
     "model_module": "@jupyter-widgets/controls",
     "model_module_version": "1.5.0",
     "model_name": "ProgressStyleModel",
     "state": {
      "_model_module": "@jupyter-widgets/controls",
      "_model_module_version": "1.5.0",
      "_model_name": "ProgressStyleModel",
      "_view_count": null,
      "_view_module": "@jupyter-widgets/base",
      "_view_module_version": "1.2.0",
      "_view_name": "StyleView",
      "bar_color": null,
      "description_width": ""
     }
    },
    "1f311b5b0ede4954848baf1d1f99ae3b": {
     "model_module": "@jupyter-widgets/controls",
     "model_module_version": "1.5.0",
     "model_name": "HBoxModel",
     "state": {
      "_dom_classes": [],
      "_model_module": "@jupyter-widgets/controls",
      "_model_module_version": "1.5.0",
      "_model_name": "HBoxModel",
      "_view_count": null,
      "_view_module": "@jupyter-widgets/controls",
      "_view_module_version": "1.5.0",
      "_view_name": "HBoxView",
      "box_style": "",
      "children": [
       "IPY_MODEL_b6444e675b61481ca63c79e4fc27e73c",
       "IPY_MODEL_b264e9af4f064165b0304cd8aa80a90a",
       "IPY_MODEL_5c0a1c1c0de6405b8116145ef03e128d"
      ],
      "layout": "IPY_MODEL_8faac9fe809849269ddf2530dfaef1be"
     }
    },
    "1f5f8a5ddf3744edae0ca3b4d8c981d7": {
     "model_module": "@jupyter-widgets/base",
     "model_module_version": "1.2.0",
     "model_name": "LayoutModel",
     "state": {
      "_model_module": "@jupyter-widgets/base",
      "_model_module_version": "1.2.0",
      "_model_name": "LayoutModel",
      "_view_count": null,
      "_view_module": "@jupyter-widgets/base",
      "_view_module_version": "1.2.0",
      "_view_name": "LayoutView",
      "align_content": null,
      "align_items": null,
      "align_self": null,
      "border": null,
      "bottom": null,
      "display": null,
      "flex": null,
      "flex_flow": null,
      "grid_area": null,
      "grid_auto_columns": null,
      "grid_auto_flow": null,
      "grid_auto_rows": null,
      "grid_column": null,
      "grid_gap": null,
      "grid_row": null,
      "grid_template_areas": null,
      "grid_template_columns": null,
      "grid_template_rows": null,
      "height": null,
      "justify_content": null,
      "justify_items": null,
      "left": null,
      "margin": null,
      "max_height": null,
      "max_width": null,
      "min_height": null,
      "min_width": null,
      "object_fit": null,
      "object_position": null,
      "order": null,
      "overflow": null,
      "overflow_x": null,
      "overflow_y": null,
      "padding": null,
      "right": null,
      "top": null,
      "visibility": null,
      "width": null
     }
    },
    "23e9c8736f8e48b69e32674d298231a4": {
     "model_module": "@jupyter-widgets/base",
     "model_module_version": "1.2.0",
     "model_name": "LayoutModel",
     "state": {
      "_model_module": "@jupyter-widgets/base",
      "_model_module_version": "1.2.0",
      "_model_name": "LayoutModel",
      "_view_count": null,
      "_view_module": "@jupyter-widgets/base",
      "_view_module_version": "1.2.0",
      "_view_name": "LayoutView",
      "align_content": null,
      "align_items": null,
      "align_self": null,
      "border": null,
      "bottom": null,
      "display": null,
      "flex": null,
      "flex_flow": null,
      "grid_area": null,
      "grid_auto_columns": null,
      "grid_auto_flow": null,
      "grid_auto_rows": null,
      "grid_column": null,
      "grid_gap": null,
      "grid_row": null,
      "grid_template_areas": null,
      "grid_template_columns": null,
      "grid_template_rows": null,
      "height": null,
      "justify_content": null,
      "justify_items": null,
      "left": null,
      "margin": null,
      "max_height": null,
      "max_width": null,
      "min_height": null,
      "min_width": null,
      "object_fit": null,
      "object_position": null,
      "order": null,
      "overflow": null,
      "overflow_x": null,
      "overflow_y": null,
      "padding": null,
      "right": null,
      "top": null,
      "visibility": null,
      "width": null
     }
    },
    "378bd3d3b8b545488b83a3c41926e379": {
     "model_module": "@jupyter-widgets/controls",
     "model_module_version": "1.5.0",
     "model_name": "HTMLModel",
     "state": {
      "_dom_classes": [],
      "_model_module": "@jupyter-widgets/controls",
      "_model_module_version": "1.5.0",
      "_model_name": "HTMLModel",
      "_view_count": null,
      "_view_module": "@jupyter-widgets/controls",
      "_view_module_version": "1.5.0",
      "_view_name": "HTMLView",
      "description": "",
      "description_tooltip": null,
      "layout": "IPY_MODEL_6d4a1dcb16b14e31a8b7902d57128b9d",
      "placeholder": "​",
      "style": "IPY_MODEL_0e698c7c3c0f4957863cb244e3388e51",
      "value": " 28.0/28.0 [00:00&lt;00:00, 1.06kB/s]"
     }
    },
    "39b5b02cc3f54829afb1d8f406d01745": {
     "model_module": "@jupyter-widgets/controls",
     "model_module_version": "1.5.0",
     "model_name": "HTMLModel",
     "state": {
      "_dom_classes": [],
      "_model_module": "@jupyter-widgets/controls",
      "_model_module_version": "1.5.0",
      "_model_name": "HTMLModel",
      "_view_count": null,
      "_view_module": "@jupyter-widgets/controls",
      "_view_module_version": "1.5.0",
      "_view_name": "HTMLView",
      "description": "",
      "description_tooltip": null,
      "layout": "IPY_MODEL_ebab70d88aff42bb86ecd4de312a2182",
      "placeholder": "​",
      "style": "IPY_MODEL_46770dce320b401dbf5d2b5940d41b7f",
      "value": " 232k/232k [00:00&lt;00:00, 4.19MB/s]"
     }
    },
    "3a30f45aae8e4784ae6012795a39b25e": {
     "model_module": "@jupyter-widgets/base",
     "model_module_version": "1.2.0",
     "model_name": "LayoutModel",
     "state": {
      "_model_module": "@jupyter-widgets/base",
      "_model_module_version": "1.2.0",
      "_model_name": "LayoutModel",
      "_view_count": null,
      "_view_module": "@jupyter-widgets/base",
      "_view_module_version": "1.2.0",
      "_view_name": "LayoutView",
      "align_content": null,
      "align_items": null,
      "align_self": null,
      "border": null,
      "bottom": null,
      "display": null,
      "flex": null,
      "flex_flow": null,
      "grid_area": null,
      "grid_auto_columns": null,
      "grid_auto_flow": null,
      "grid_auto_rows": null,
      "grid_column": null,
      "grid_gap": null,
      "grid_row": null,
      "grid_template_areas": null,
      "grid_template_columns": null,
      "grid_template_rows": null,
      "height": null,
      "justify_content": null,
      "justify_items": null,
      "left": null,
      "margin": null,
      "max_height": null,
      "max_width": null,
      "min_height": null,
      "min_width": null,
      "object_fit": null,
      "object_position": null,
      "order": null,
      "overflow": null,
      "overflow_x": null,
      "overflow_y": null,
      "padding": null,
      "right": null,
      "top": null,
      "visibility": null,
      "width": null
     }
    },
    "3e358d1b9f624dce88893315adda58c9": {
     "model_module": "@jupyter-widgets/base",
     "model_module_version": "1.2.0",
     "model_name": "LayoutModel",
     "state": {
      "_model_module": "@jupyter-widgets/base",
      "_model_module_version": "1.2.0",
      "_model_name": "LayoutModel",
      "_view_count": null,
      "_view_module": "@jupyter-widgets/base",
      "_view_module_version": "1.2.0",
      "_view_name": "LayoutView",
      "align_content": null,
      "align_items": null,
      "align_self": null,
      "border": null,
      "bottom": null,
      "display": null,
      "flex": null,
      "flex_flow": null,
      "grid_area": null,
      "grid_auto_columns": null,
      "grid_auto_flow": null,
      "grid_auto_rows": null,
      "grid_column": null,
      "grid_gap": null,
      "grid_row": null,
      "grid_template_areas": null,
      "grid_template_columns": null,
      "grid_template_rows": null,
      "height": null,
      "justify_content": null,
      "justify_items": null,
      "left": null,
      "margin": null,
      "max_height": null,
      "max_width": null,
      "min_height": null,
      "min_width": null,
      "object_fit": null,
      "object_position": null,
      "order": null,
      "overflow": null,
      "overflow_x": null,
      "overflow_y": null,
      "padding": null,
      "right": null,
      "top": null,
      "visibility": null,
      "width": null
     }
    },
    "43897428a6074852be69ebe1d824f136": {
     "model_module": "@jupyter-widgets/base",
     "model_module_version": "1.2.0",
     "model_name": "LayoutModel",
     "state": {
      "_model_module": "@jupyter-widgets/base",
      "_model_module_version": "1.2.0",
      "_model_name": "LayoutModel",
      "_view_count": null,
      "_view_module": "@jupyter-widgets/base",
      "_view_module_version": "1.2.0",
      "_view_name": "LayoutView",
      "align_content": null,
      "align_items": null,
      "align_self": null,
      "border": null,
      "bottom": null,
      "display": null,
      "flex": null,
      "flex_flow": null,
      "grid_area": null,
      "grid_auto_columns": null,
      "grid_auto_flow": null,
      "grid_auto_rows": null,
      "grid_column": null,
      "grid_gap": null,
      "grid_row": null,
      "grid_template_areas": null,
      "grid_template_columns": null,
      "grid_template_rows": null,
      "height": null,
      "justify_content": null,
      "justify_items": null,
      "left": null,
      "margin": null,
      "max_height": null,
      "max_width": null,
      "min_height": null,
      "min_width": null,
      "object_fit": null,
      "object_position": null,
      "order": null,
      "overflow": null,
      "overflow_x": null,
      "overflow_y": null,
      "padding": null,
      "right": null,
      "top": null,
      "visibility": null,
      "width": null
     }
    },
    "46770dce320b401dbf5d2b5940d41b7f": {
     "model_module": "@jupyter-widgets/controls",
     "model_module_version": "1.5.0",
     "model_name": "DescriptionStyleModel",
     "state": {
      "_model_module": "@jupyter-widgets/controls",
      "_model_module_version": "1.5.0",
      "_model_name": "DescriptionStyleModel",
      "_view_count": null,
      "_view_module": "@jupyter-widgets/base",
      "_view_module_version": "1.2.0",
      "_view_name": "StyleView",
      "description_width": ""
     }
    },
    "4caf471fcd984a428f67623069987d75": {
     "model_module": "@jupyter-widgets/base",
     "model_module_version": "1.2.0",
     "model_name": "LayoutModel",
     "state": {
      "_model_module": "@jupyter-widgets/base",
      "_model_module_version": "1.2.0",
      "_model_name": "LayoutModel",
      "_view_count": null,
      "_view_module": "@jupyter-widgets/base",
      "_view_module_version": "1.2.0",
      "_view_name": "LayoutView",
      "align_content": null,
      "align_items": null,
      "align_self": null,
      "border": null,
      "bottom": null,
      "display": null,
      "flex": null,
      "flex_flow": null,
      "grid_area": null,
      "grid_auto_columns": null,
      "grid_auto_flow": null,
      "grid_auto_rows": null,
      "grid_column": null,
      "grid_gap": null,
      "grid_row": null,
      "grid_template_areas": null,
      "grid_template_columns": null,
      "grid_template_rows": null,
      "height": null,
      "justify_content": null,
      "justify_items": null,
      "left": null,
      "margin": null,
      "max_height": null,
      "max_width": null,
      "min_height": null,
      "min_width": null,
      "object_fit": null,
      "object_position": null,
      "order": null,
      "overflow": null,
      "overflow_x": null,
      "overflow_y": null,
      "padding": null,
      "right": null,
      "top": null,
      "visibility": null,
      "width": null
     }
    },
    "5579729fcac14322ad147c2868a1730c": {
     "model_module": "@jupyter-widgets/controls",
     "model_module_version": "1.5.0",
     "model_name": "FloatProgressModel",
     "state": {
      "_dom_classes": [],
      "_model_module": "@jupyter-widgets/controls",
      "_model_module_version": "1.5.0",
      "_model_name": "FloatProgressModel",
      "_view_count": null,
      "_view_module": "@jupyter-widgets/controls",
      "_view_module_version": "1.5.0",
      "_view_name": "ProgressView",
      "bar_style": "success",
      "description": "",
      "description_tooltip": null,
      "layout": "IPY_MODEL_60870cf0b69e4bf69a683358f8d5e456",
      "max": 28,
      "min": 0,
      "orientation": "horizontal",
      "style": "IPY_MODEL_f95090e8f3a04518885c48259ec1d3fe",
      "value": 28
     }
    },
    "589ff472fe004b75b7a7f6796fd1844e": {
     "model_module": "@jupyter-widgets/controls",
     "model_module_version": "1.5.0",
     "model_name": "ProgressStyleModel",
     "state": {
      "_model_module": "@jupyter-widgets/controls",
      "_model_module_version": "1.5.0",
      "_model_name": "ProgressStyleModel",
      "_view_count": null,
      "_view_module": "@jupyter-widgets/base",
      "_view_module_version": "1.2.0",
      "_view_name": "StyleView",
      "bar_color": null,
      "description_width": ""
     }
    },
    "5b895dde012c4049b9e397e6ccf520d0": {
     "model_module": "@jupyter-widgets/controls",
     "model_module_version": "1.5.0",
     "model_name": "DescriptionStyleModel",
     "state": {
      "_model_module": "@jupyter-widgets/controls",
      "_model_module_version": "1.5.0",
      "_model_name": "DescriptionStyleModel",
      "_view_count": null,
      "_view_module": "@jupyter-widgets/base",
      "_view_module_version": "1.2.0",
      "_view_name": "StyleView",
      "description_width": ""
     }
    },
    "5c0a1c1c0de6405b8116145ef03e128d": {
     "model_module": "@jupyter-widgets/controls",
     "model_module_version": "1.5.0",
     "model_name": "HTMLModel",
     "state": {
      "_dom_classes": [],
      "_model_module": "@jupyter-widgets/controls",
      "_model_module_version": "1.5.0",
      "_model_name": "HTMLModel",
      "_view_count": null,
      "_view_module": "@jupyter-widgets/controls",
      "_view_module_version": "1.5.0",
      "_view_name": "HTMLView",
      "description": "",
      "description_tooltip": null,
      "layout": "IPY_MODEL_f2a5e81a93454333adc99fbfb0d37ed8",
      "placeholder": "​",
      "style": "IPY_MODEL_5b895dde012c4049b9e397e6ccf520d0",
      "value": " 268M/268M [00:01&lt;00:00, 178MB/s]"
     }
    },
    "60870cf0b69e4bf69a683358f8d5e456": {
     "model_module": "@jupyter-widgets/base",
     "model_module_version": "1.2.0",
     "model_name": "LayoutModel",
     "state": {
      "_model_module": "@jupyter-widgets/base",
      "_model_module_version": "1.2.0",
      "_model_name": "LayoutModel",
      "_view_count": null,
      "_view_module": "@jupyter-widgets/base",
      "_view_module_version": "1.2.0",
      "_view_name": "LayoutView",
      "align_content": null,
      "align_items": null,
      "align_self": null,
      "border": null,
      "bottom": null,
      "display": null,
      "flex": null,
      "flex_flow": null,
      "grid_area": null,
      "grid_auto_columns": null,
      "grid_auto_flow": null,
      "grid_auto_rows": null,
      "grid_column": null,
      "grid_gap": null,
      "grid_row": null,
      "grid_template_areas": null,
      "grid_template_columns": null,
      "grid_template_rows": null,
      "height": null,
      "justify_content": null,
      "justify_items": null,
      "left": null,
      "margin": null,
      "max_height": null,
      "max_width": null,
      "min_height": null,
      "min_width": null,
      "object_fit": null,
      "object_position": null,
      "order": null,
      "overflow": null,
      "overflow_x": null,
      "overflow_y": null,
      "padding": null,
      "right": null,
      "top": null,
      "visibility": null,
      "width": null
     }
    },
    "68c43df0cda54b46bbc7ecb21bf9e4ed": {
     "model_module": "@jupyter-widgets/controls",
     "model_module_version": "1.5.0",
     "model_name": "ProgressStyleModel",
     "state": {
      "_model_module": "@jupyter-widgets/controls",
      "_model_module_version": "1.5.0",
      "_model_name": "ProgressStyleModel",
      "_view_count": null,
      "_view_module": "@jupyter-widgets/base",
      "_view_module_version": "1.2.0",
      "_view_name": "StyleView",
      "bar_color": null,
      "description_width": ""
     }
    },
    "6d4a1dcb16b14e31a8b7902d57128b9d": {
     "model_module": "@jupyter-widgets/base",
     "model_module_version": "1.2.0",
     "model_name": "LayoutModel",
     "state": {
      "_model_module": "@jupyter-widgets/base",
      "_model_module_version": "1.2.0",
      "_model_name": "LayoutModel",
      "_view_count": null,
      "_view_module": "@jupyter-widgets/base",
      "_view_module_version": "1.2.0",
      "_view_name": "LayoutView",
      "align_content": null,
      "align_items": null,
      "align_self": null,
      "border": null,
      "bottom": null,
      "display": null,
      "flex": null,
      "flex_flow": null,
      "grid_area": null,
      "grid_auto_columns": null,
      "grid_auto_flow": null,
      "grid_auto_rows": null,
      "grid_column": null,
      "grid_gap": null,
      "grid_row": null,
      "grid_template_areas": null,
      "grid_template_columns": null,
      "grid_template_rows": null,
      "height": null,
      "justify_content": null,
      "justify_items": null,
      "left": null,
      "margin": null,
      "max_height": null,
      "max_width": null,
      "min_height": null,
      "min_width": null,
      "object_fit": null,
      "object_position": null,
      "order": null,
      "overflow": null,
      "overflow_x": null,
      "overflow_y": null,
      "padding": null,
      "right": null,
      "top": null,
      "visibility": null,
      "width": null
     }
    },
    "6e03064c87a84e068d7b2560c72835ff": {
     "model_module": "@jupyter-widgets/controls",
     "model_module_version": "1.5.0",
     "model_name": "HBoxModel",
     "state": {
      "_dom_classes": [],
      "_model_module": "@jupyter-widgets/controls",
      "_model_module_version": "1.5.0",
      "_model_name": "HBoxModel",
      "_view_count": null,
      "_view_module": "@jupyter-widgets/controls",
      "_view_module_version": "1.5.0",
      "_view_name": "HBoxView",
      "box_style": "",
      "children": [
       "IPY_MODEL_c2a59f41f42247c28b4790bd9b5d85c2",
       "IPY_MODEL_7bea92d26c4b466590962d60993ff83c",
       "IPY_MODEL_39b5b02cc3f54829afb1d8f406d01745"
      ],
      "layout": "IPY_MODEL_cc5437a5d35e43b0a2a38f0ee7b8cd0c"
     }
    },
    "7bea92d26c4b466590962d60993ff83c": {
     "model_module": "@jupyter-widgets/controls",
     "model_module_version": "1.5.0",
     "model_name": "FloatProgressModel",
     "state": {
      "_dom_classes": [],
      "_model_module": "@jupyter-widgets/controls",
      "_model_module_version": "1.5.0",
      "_model_name": "FloatProgressModel",
      "_view_count": null,
      "_view_module": "@jupyter-widgets/controls",
      "_view_module_version": "1.5.0",
      "_view_name": "ProgressView",
      "bar_style": "success",
      "description": "",
      "description_tooltip": null,
      "layout": "IPY_MODEL_3e358d1b9f624dce88893315adda58c9",
      "max": 231508,
      "min": 0,
      "orientation": "horizontal",
      "style": "IPY_MODEL_187e9534d208421ea28ead63d0f9333f",
      "value": 231508
     }
    },
    "80b3e7d5691342fd81a41e4515107a86": {
     "model_module": "@jupyter-widgets/controls",
     "model_module_version": "1.5.0",
     "model_name": "DescriptionStyleModel",
     "state": {
      "_model_module": "@jupyter-widgets/controls",
      "_model_module_version": "1.5.0",
      "_model_name": "DescriptionStyleModel",
      "_view_count": null,
      "_view_module": "@jupyter-widgets/base",
      "_view_module_version": "1.2.0",
      "_view_name": "StyleView",
      "description_width": ""
     }
    },
    "856b84e33d394e2eb739bfc67e9226f3": {
     "model_module": "@jupyter-widgets/controls",
     "model_module_version": "1.5.0",
     "model_name": "HBoxModel",
     "state": {
      "_dom_classes": [],
      "_model_module": "@jupyter-widgets/controls",
      "_model_module_version": "1.5.0",
      "_model_name": "HBoxModel",
      "_view_count": null,
      "_view_module": "@jupyter-widgets/controls",
      "_view_module_version": "1.5.0",
      "_view_name": "HBoxView",
      "box_style": "",
      "children": [
       "IPY_MODEL_a1aa210f2ea44af49c8759a959e735f7",
       "IPY_MODEL_ff81117d634d452bb908f1ace53cd0a2",
       "IPY_MODEL_86ba4009292c4023ad07f0653e08e75f"
      ],
      "layout": "IPY_MODEL_43897428a6074852be69ebe1d824f136"
     }
    },
    "86ba4009292c4023ad07f0653e08e75f": {
     "model_module": "@jupyter-widgets/controls",
     "model_module_version": "1.5.0",
     "model_name": "HTMLModel",
     "state": {
      "_dom_classes": [],
      "_model_module": "@jupyter-widgets/controls",
      "_model_module_version": "1.5.0",
      "_model_name": "HTMLModel",
      "_view_count": null,
      "_view_module": "@jupyter-widgets/controls",
      "_view_module_version": "1.5.0",
      "_view_name": "HTMLView",
      "description": "",
      "description_tooltip": null,
      "layout": "IPY_MODEL_23e9c8736f8e48b69e32674d298231a4",
      "placeholder": "​",
      "style": "IPY_MODEL_bd50c9eee5c94a868d0e21a21d94b66f",
      "value": " 483/483 [00:00&lt;00:00, 23.1kB/s]"
     }
    },
    "877969d6a80d479ea933942ad175f002": {
     "model_module": "@jupyter-widgets/controls",
     "model_module_version": "1.5.0",
     "model_name": "DescriptionStyleModel",
     "state": {
      "_model_module": "@jupyter-widgets/controls",
      "_model_module_version": "1.5.0",
      "_model_name": "DescriptionStyleModel",
      "_view_count": null,
      "_view_module": "@jupyter-widgets/base",
      "_view_module_version": "1.2.0",
      "_view_name": "StyleView",
      "description_width": ""
     }
    },
    "8faac9fe809849269ddf2530dfaef1be": {
     "model_module": "@jupyter-widgets/base",
     "model_module_version": "1.2.0",
     "model_name": "LayoutModel",
     "state": {
      "_model_module": "@jupyter-widgets/base",
      "_model_module_version": "1.2.0",
      "_model_name": "LayoutModel",
      "_view_count": null,
      "_view_module": "@jupyter-widgets/base",
      "_view_module_version": "1.2.0",
      "_view_name": "LayoutView",
      "align_content": null,
      "align_items": null,
      "align_self": null,
      "border": null,
      "bottom": null,
      "display": null,
      "flex": null,
      "flex_flow": null,
      "grid_area": null,
      "grid_auto_columns": null,
      "grid_auto_flow": null,
      "grid_auto_rows": null,
      "grid_column": null,
      "grid_gap": null,
      "grid_row": null,
      "grid_template_areas": null,
      "grid_template_columns": null,
      "grid_template_rows": null,
      "height": null,
      "justify_content": null,
      "justify_items": null,
      "left": null,
      "margin": null,
      "max_height": null,
      "max_width": null,
      "min_height": null,
      "min_width": null,
      "object_fit": null,
      "object_position": null,
      "order": null,
      "overflow": null,
      "overflow_x": null,
      "overflow_y": null,
      "padding": null,
      "right": null,
      "top": null,
      "visibility": null,
      "width": null
     }
    },
    "97c5d47bfac84a43a56fd3e4b054f74e": {
     "model_module": "@jupyter-widgets/base",
     "model_module_version": "1.2.0",
     "model_name": "LayoutModel",
     "state": {
      "_model_module": "@jupyter-widgets/base",
      "_model_module_version": "1.2.0",
      "_model_name": "LayoutModel",
      "_view_count": null,
      "_view_module": "@jupyter-widgets/base",
      "_view_module_version": "1.2.0",
      "_view_name": "LayoutView",
      "align_content": null,
      "align_items": null,
      "align_self": null,
      "border": null,
      "bottom": null,
      "display": null,
      "flex": null,
      "flex_flow": null,
      "grid_area": null,
      "grid_auto_columns": null,
      "grid_auto_flow": null,
      "grid_auto_rows": null,
      "grid_column": null,
      "grid_gap": null,
      "grid_row": null,
      "grid_template_areas": null,
      "grid_template_columns": null,
      "grid_template_rows": null,
      "height": null,
      "justify_content": null,
      "justify_items": null,
      "left": null,
      "margin": null,
      "max_height": null,
      "max_width": null,
      "min_height": null,
      "min_width": null,
      "object_fit": null,
      "object_position": null,
      "order": null,
      "overflow": null,
      "overflow_x": null,
      "overflow_y": null,
      "padding": null,
      "right": null,
      "top": null,
      "visibility": null,
      "width": null
     }
    },
    "a1aa210f2ea44af49c8759a959e735f7": {
     "model_module": "@jupyter-widgets/controls",
     "model_module_version": "1.5.0",
     "model_name": "HTMLModel",
     "state": {
      "_dom_classes": [],
      "_model_module": "@jupyter-widgets/controls",
      "_model_module_version": "1.5.0",
      "_model_name": "HTMLModel",
      "_view_count": null,
      "_view_module": "@jupyter-widgets/controls",
      "_view_module_version": "1.5.0",
      "_view_name": "HTMLView",
      "description": "",
      "description_tooltip": null,
      "layout": "IPY_MODEL_bf4726d3584d4f15ac0693fc521ce37e",
      "placeholder": "​",
      "style": "IPY_MODEL_80b3e7d5691342fd81a41e4515107a86",
      "value": "Downloading (…)lve/main/config.json: 100%"
     }
    },
    "a74f8d289b3942c19f20ee5c13d591d8": {
     "model_module": "@jupyter-widgets/controls",
     "model_module_version": "1.5.0",
     "model_name": "DescriptionStyleModel",
     "state": {
      "_model_module": "@jupyter-widgets/controls",
      "_model_module_version": "1.5.0",
      "_model_name": "DescriptionStyleModel",
      "_view_count": null,
      "_view_module": "@jupyter-widgets/base",
      "_view_module_version": "1.2.0",
      "_view_name": "StyleView",
      "description_width": ""
     }
    },
    "ab7485782b79461384d41bb2207357b0": {
     "model_module": "@jupyter-widgets/controls",
     "model_module_version": "1.5.0",
     "model_name": "HBoxModel",
     "state": {
      "_dom_classes": [],
      "_model_module": "@jupyter-widgets/controls",
      "_model_module_version": "1.5.0",
      "_model_name": "HBoxModel",
      "_view_count": null,
      "_view_module": "@jupyter-widgets/controls",
      "_view_module_version": "1.5.0",
      "_view_name": "HBoxView",
      "box_style": "",
      "children": [
       "IPY_MODEL_f0a2456652c5494cbdc0f43aa067e0d6",
       "IPY_MODEL_5579729fcac14322ad147c2868a1730c",
       "IPY_MODEL_378bd3d3b8b545488b83a3c41926e379"
      ],
      "layout": "IPY_MODEL_fff6fab3a147463c86b82e41ee646351"
     }
    },
    "b264e9af4f064165b0304cd8aa80a90a": {
     "model_module": "@jupyter-widgets/controls",
     "model_module_version": "1.5.0",
     "model_name": "FloatProgressModel",
     "state": {
      "_dom_classes": [],
      "_model_module": "@jupyter-widgets/controls",
      "_model_module_version": "1.5.0",
      "_model_name": "FloatProgressModel",
      "_view_count": null,
      "_view_module": "@jupyter-widgets/controls",
      "_view_module_version": "1.5.0",
      "_view_name": "ProgressView",
      "bar_style": "success",
      "description": "",
      "description_tooltip": null,
      "layout": "IPY_MODEL_97c5d47bfac84a43a56fd3e4b054f74e",
      "max": 267954768,
      "min": 0,
      "orientation": "horizontal",
      "style": "IPY_MODEL_68c43df0cda54b46bbc7ecb21bf9e4ed",
      "value": 267954768
     }
    },
    "b6444e675b61481ca63c79e4fc27e73c": {
     "model_module": "@jupyter-widgets/controls",
     "model_module_version": "1.5.0",
     "model_name": "HTMLModel",
     "state": {
      "_dom_classes": [],
      "_model_module": "@jupyter-widgets/controls",
      "_model_module_version": "1.5.0",
      "_model_name": "HTMLModel",
      "_view_count": null,
      "_view_module": "@jupyter-widgets/controls",
      "_view_module_version": "1.5.0",
      "_view_name": "HTMLView",
      "description": "",
      "description_tooltip": null,
      "layout": "IPY_MODEL_4caf471fcd984a428f67623069987d75",
      "placeholder": "​",
      "style": "IPY_MODEL_a74f8d289b3942c19f20ee5c13d591d8",
      "value": "Downloading model.safetensors: 100%"
     }
    },
    "bd50c9eee5c94a868d0e21a21d94b66f": {
     "model_module": "@jupyter-widgets/controls",
     "model_module_version": "1.5.0",
     "model_name": "DescriptionStyleModel",
     "state": {
      "_model_module": "@jupyter-widgets/controls",
      "_model_module_version": "1.5.0",
      "_model_name": "DescriptionStyleModel",
      "_view_count": null,
      "_view_module": "@jupyter-widgets/base",
      "_view_module_version": "1.2.0",
      "_view_name": "StyleView",
      "description_width": ""
     }
    },
    "bf4726d3584d4f15ac0693fc521ce37e": {
     "model_module": "@jupyter-widgets/base",
     "model_module_version": "1.2.0",
     "model_name": "LayoutModel",
     "state": {
      "_model_module": "@jupyter-widgets/base",
      "_model_module_version": "1.2.0",
      "_model_name": "LayoutModel",
      "_view_count": null,
      "_view_module": "@jupyter-widgets/base",
      "_view_module_version": "1.2.0",
      "_view_name": "LayoutView",
      "align_content": null,
      "align_items": null,
      "align_self": null,
      "border": null,
      "bottom": null,
      "display": null,
      "flex": null,
      "flex_flow": null,
      "grid_area": null,
      "grid_auto_columns": null,
      "grid_auto_flow": null,
      "grid_auto_rows": null,
      "grid_column": null,
      "grid_gap": null,
      "grid_row": null,
      "grid_template_areas": null,
      "grid_template_columns": null,
      "grid_template_rows": null,
      "height": null,
      "justify_content": null,
      "justify_items": null,
      "left": null,
      "margin": null,
      "max_height": null,
      "max_width": null,
      "min_height": null,
      "min_width": null,
      "object_fit": null,
      "object_position": null,
      "order": null,
      "overflow": null,
      "overflow_x": null,
      "overflow_y": null,
      "padding": null,
      "right": null,
      "top": null,
      "visibility": null,
      "width": null
     }
    },
    "c2a59f41f42247c28b4790bd9b5d85c2": {
     "model_module": "@jupyter-widgets/controls",
     "model_module_version": "1.5.0",
     "model_name": "HTMLModel",
     "state": {
      "_dom_classes": [],
      "_model_module": "@jupyter-widgets/controls",
      "_model_module_version": "1.5.0",
      "_model_name": "HTMLModel",
      "_view_count": null,
      "_view_module": "@jupyter-widgets/controls",
      "_view_module_version": "1.5.0",
      "_view_name": "HTMLView",
      "description": "",
      "description_tooltip": null,
      "layout": "IPY_MODEL_1f5f8a5ddf3744edae0ca3b4d8c981d7",
      "placeholder": "​",
      "style": "IPY_MODEL_877969d6a80d479ea933942ad175f002",
      "value": "Downloading (…)solve/main/vocab.txt: 100%"
     }
    },
    "c68375eaf3ab48c88402a8a81132e59e": {
     "model_module": "@jupyter-widgets/base",
     "model_module_version": "1.2.0",
     "model_name": "LayoutModel",
     "state": {
      "_model_module": "@jupyter-widgets/base",
      "_model_module_version": "1.2.0",
      "_model_name": "LayoutModel",
      "_view_count": null,
      "_view_module": "@jupyter-widgets/base",
      "_view_module_version": "1.2.0",
      "_view_name": "LayoutView",
      "align_content": null,
      "align_items": null,
      "align_self": null,
      "border": null,
      "bottom": null,
      "display": null,
      "flex": null,
      "flex_flow": null,
      "grid_area": null,
      "grid_auto_columns": null,
      "grid_auto_flow": null,
      "grid_auto_rows": null,
      "grid_column": null,
      "grid_gap": null,
      "grid_row": null,
      "grid_template_areas": null,
      "grid_template_columns": null,
      "grid_template_rows": null,
      "height": null,
      "justify_content": null,
      "justify_items": null,
      "left": null,
      "margin": null,
      "max_height": null,
      "max_width": null,
      "min_height": null,
      "min_width": null,
      "object_fit": null,
      "object_position": null,
      "order": null,
      "overflow": null,
      "overflow_x": null,
      "overflow_y": null,
      "padding": null,
      "right": null,
      "top": null,
      "visibility": null,
      "width": null
     }
    },
    "cc5437a5d35e43b0a2a38f0ee7b8cd0c": {
     "model_module": "@jupyter-widgets/base",
     "model_module_version": "1.2.0",
     "model_name": "LayoutModel",
     "state": {
      "_model_module": "@jupyter-widgets/base",
      "_model_module_version": "1.2.0",
      "_model_name": "LayoutModel",
      "_view_count": null,
      "_view_module": "@jupyter-widgets/base",
      "_view_module_version": "1.2.0",
      "_view_name": "LayoutView",
      "align_content": null,
      "align_items": null,
      "align_self": null,
      "border": null,
      "bottom": null,
      "display": null,
      "flex": null,
      "flex_flow": null,
      "grid_area": null,
      "grid_auto_columns": null,
      "grid_auto_flow": null,
      "grid_auto_rows": null,
      "grid_column": null,
      "grid_gap": null,
      "grid_row": null,
      "grid_template_areas": null,
      "grid_template_columns": null,
      "grid_template_rows": null,
      "height": null,
      "justify_content": null,
      "justify_items": null,
      "left": null,
      "margin": null,
      "max_height": null,
      "max_width": null,
      "min_height": null,
      "min_width": null,
      "object_fit": null,
      "object_position": null,
      "order": null,
      "overflow": null,
      "overflow_x": null,
      "overflow_y": null,
      "padding": null,
      "right": null,
      "top": null,
      "visibility": null,
      "width": null
     }
    },
    "e3f51f5d1a1541339e0988d7a7657328": {
     "model_module": "@jupyter-widgets/controls",
     "model_module_version": "1.5.0",
     "model_name": "DescriptionStyleModel",
     "state": {
      "_model_module": "@jupyter-widgets/controls",
      "_model_module_version": "1.5.0",
      "_model_name": "DescriptionStyleModel",
      "_view_count": null,
      "_view_module": "@jupyter-widgets/base",
      "_view_module_version": "1.2.0",
      "_view_name": "StyleView",
      "description_width": ""
     }
    },
    "ebab70d88aff42bb86ecd4de312a2182": {
     "model_module": "@jupyter-widgets/base",
     "model_module_version": "1.2.0",
     "model_name": "LayoutModel",
     "state": {
      "_model_module": "@jupyter-widgets/base",
      "_model_module_version": "1.2.0",
      "_model_name": "LayoutModel",
      "_view_count": null,
      "_view_module": "@jupyter-widgets/base",
      "_view_module_version": "1.2.0",
      "_view_name": "LayoutView",
      "align_content": null,
      "align_items": null,
      "align_self": null,
      "border": null,
      "bottom": null,
      "display": null,
      "flex": null,
      "flex_flow": null,
      "grid_area": null,
      "grid_auto_columns": null,
      "grid_auto_flow": null,
      "grid_auto_rows": null,
      "grid_column": null,
      "grid_gap": null,
      "grid_row": null,
      "grid_template_areas": null,
      "grid_template_columns": null,
      "grid_template_rows": null,
      "height": null,
      "justify_content": null,
      "justify_items": null,
      "left": null,
      "margin": null,
      "max_height": null,
      "max_width": null,
      "min_height": null,
      "min_width": null,
      "object_fit": null,
      "object_position": null,
      "order": null,
      "overflow": null,
      "overflow_x": null,
      "overflow_y": null,
      "padding": null,
      "right": null,
      "top": null,
      "visibility": null,
      "width": null
     }
    },
    "f0a2456652c5494cbdc0f43aa067e0d6": {
     "model_module": "@jupyter-widgets/controls",
     "model_module_version": "1.5.0",
     "model_name": "HTMLModel",
     "state": {
      "_dom_classes": [],
      "_model_module": "@jupyter-widgets/controls",
      "_model_module_version": "1.5.0",
      "_model_name": "HTMLModel",
      "_view_count": null,
      "_view_module": "@jupyter-widgets/controls",
      "_view_module_version": "1.5.0",
      "_view_name": "HTMLView",
      "description": "",
      "description_tooltip": null,
      "layout": "IPY_MODEL_c68375eaf3ab48c88402a8a81132e59e",
      "placeholder": "​",
      "style": "IPY_MODEL_e3f51f5d1a1541339e0988d7a7657328",
      "value": "Downloading (…)okenizer_config.json: 100%"
     }
    },
    "f2a5e81a93454333adc99fbfb0d37ed8": {
     "model_module": "@jupyter-widgets/base",
     "model_module_version": "1.2.0",
     "model_name": "LayoutModel",
     "state": {
      "_model_module": "@jupyter-widgets/base",
      "_model_module_version": "1.2.0",
      "_model_name": "LayoutModel",
      "_view_count": null,
      "_view_module": "@jupyter-widgets/base",
      "_view_module_version": "1.2.0",
      "_view_name": "LayoutView",
      "align_content": null,
      "align_items": null,
      "align_self": null,
      "border": null,
      "bottom": null,
      "display": null,
      "flex": null,
      "flex_flow": null,
      "grid_area": null,
      "grid_auto_columns": null,
      "grid_auto_flow": null,
      "grid_auto_rows": null,
      "grid_column": null,
      "grid_gap": null,
      "grid_row": null,
      "grid_template_areas": null,
      "grid_template_columns": null,
      "grid_template_rows": null,
      "height": null,
      "justify_content": null,
      "justify_items": null,
      "left": null,
      "margin": null,
      "max_height": null,
      "max_width": null,
      "min_height": null,
      "min_width": null,
      "object_fit": null,
      "object_position": null,
      "order": null,
      "overflow": null,
      "overflow_x": null,
      "overflow_y": null,
      "padding": null,
      "right": null,
      "top": null,
      "visibility": null,
      "width": null
     }
    },
    "f95090e8f3a04518885c48259ec1d3fe": {
     "model_module": "@jupyter-widgets/controls",
     "model_module_version": "1.5.0",
     "model_name": "ProgressStyleModel",
     "state": {
      "_model_module": "@jupyter-widgets/controls",
      "_model_module_version": "1.5.0",
      "_model_name": "ProgressStyleModel",
      "_view_count": null,
      "_view_module": "@jupyter-widgets/base",
      "_view_module_version": "1.2.0",
      "_view_name": "StyleView",
      "bar_color": null,
      "description_width": ""
     }
    },
    "ff81117d634d452bb908f1ace53cd0a2": {
     "model_module": "@jupyter-widgets/controls",
     "model_module_version": "1.5.0",
     "model_name": "FloatProgressModel",
     "state": {
      "_dom_classes": [],
      "_model_module": "@jupyter-widgets/controls",
      "_model_module_version": "1.5.0",
      "_model_name": "FloatProgressModel",
      "_view_count": null,
      "_view_module": "@jupyter-widgets/controls",
      "_view_module_version": "1.5.0",
      "_view_name": "ProgressView",
      "bar_style": "success",
      "description": "",
      "description_tooltip": null,
      "layout": "IPY_MODEL_3a30f45aae8e4784ae6012795a39b25e",
      "max": 483,
      "min": 0,
      "orientation": "horizontal",
      "style": "IPY_MODEL_589ff472fe004b75b7a7f6796fd1844e",
      "value": 483
     }
    },
    "fff6fab3a147463c86b82e41ee646351": {
     "model_module": "@jupyter-widgets/base",
     "model_module_version": "1.2.0",
     "model_name": "LayoutModel",
     "state": {
      "_model_module": "@jupyter-widgets/base",
      "_model_module_version": "1.2.0",
      "_model_name": "LayoutModel",
      "_view_count": null,
      "_view_module": "@jupyter-widgets/base",
      "_view_module_version": "1.2.0",
      "_view_name": "LayoutView",
      "align_content": null,
      "align_items": null,
      "align_self": null,
      "border": null,
      "bottom": null,
      "display": null,
      "flex": null,
      "flex_flow": null,
      "grid_area": null,
      "grid_auto_columns": null,
      "grid_auto_flow": null,
      "grid_auto_rows": null,
      "grid_column": null,
      "grid_gap": null,
      "grid_row": null,
      "grid_template_areas": null,
      "grid_template_columns": null,
      "grid_template_rows": null,
      "height": null,
      "justify_content": null,
      "justify_items": null,
      "left": null,
      "margin": null,
      "max_height": null,
      "max_width": null,
      "min_height": null,
      "min_width": null,
      "object_fit": null,
      "object_position": null,
      "order": null,
      "overflow": null,
      "overflow_x": null,
      "overflow_y": null,
      "padding": null,
      "right": null,
      "top": null,
      "visibility": null,
      "width": null
     }
    }
   }
  }
 },
 "nbformat": 4,
 "nbformat_minor": 5
}
