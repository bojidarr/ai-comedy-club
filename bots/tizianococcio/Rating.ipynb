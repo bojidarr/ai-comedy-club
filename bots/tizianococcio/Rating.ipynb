{
 "cells": [
  {
   "cell_type": "code",
   "execution_count": null,
   "id": "46748fc2-0254-4944-9a91-5ae9bfe9c949",
   "metadata": {
    "tags": []
   },
   "outputs": [],
   "source": [
    "from src.lstmjokerater import LSTMJokeRaterImproved\n",
    "import pandas as pd"
   ]
  },
  {
   "cell_type": "code",
   "execution_count": null,
   "id": "de1a4a2d",
   "metadata": {},
   "outputs": [],
   "source": [
    "rating_data = pd.read_csv('data/200k/data_merge_ratings.csv')\n",
    "rating_model = 'models/lstm_joke_rater_improved'\n",
    "rating_tokenizer = 'models/lstm_joke_rater_improved_tokenizer'\n",
    "lstm_rater = LSTMJokeRaterImproved(rating_data)"
   ]
  },
  {
   "cell_type": "code",
   "execution_count": null,
   "id": "1ba4c73f",
   "metadata": {},
   "outputs": [],
   "source": [
    "lstm_rater.preprocess_data()\n",
    "lstm_rater.train_model(batch_size=128, epochs=1, save_freq=10)\n",
    "lstm_rater.save_model(rating_model, rating_tokenizer)"
   ]
  },
  {
   "cell_type": "code",
   "execution_count": 2,
   "id": "6e74fce3",
   "metadata": {},
   "outputs": [
    {
     "name": "stdout",
     "output_type": "stream",
     "text": [
      "1/1 [==============================] - 0s 23ms/step\n"
     ]
    },
    {
     "data": {
      "text/plain": [
       "6"
      ]
     },
     "execution_count": 2,
     "metadata": {},
     "output_type": "execute_result"
    }
   ],
   "source": [
    "lstm_rater.rate_joke(\"What do you call a cow with no legs? Ground beef.\")"
   ]
  },
  {
   "cell_type": "code",
   "execution_count": 4,
   "id": "e8ef90f0",
   "metadata": {},
   "outputs": [
    {
     "name": "stdout",
     "output_type": "stream",
     "text": [
      "Loading model from models/lstm_joke_rater_improved\n"
     ]
    },
    {
     "name": "stderr",
     "output_type": "stream",
     "text": [
      "2023-06-23 21:58:24.736221: I tensorflow/core/grappler/optimizers/custom_graph_optimizer_registry.cc:114] Plugin optimizer for device_type GPU is enabled.\n",
      "2023-06-23 21:58:24.827889: I tensorflow/core/grappler/optimizers/custom_graph_optimizer_registry.cc:114] Plugin optimizer for device_type GPU is enabled.\n",
      "2023-06-23 21:58:24.885796: I tensorflow/core/grappler/optimizers/custom_graph_optimizer_registry.cc:114] Plugin optimizer for device_type GPU is enabled.\n"
     ]
    },
    {
     "name": "stdout",
     "output_type": "stream",
     "text": [
      "1/1 [==============================] - 0s 390ms/step\n",
      "4\n"
     ]
    }
   ],
   "source": [
    "from src.lstmjokerater import LSTMJokeRaterImproved\n",
    "from src.gptjokerater import GPTJokeRater\n",
    "from src.rater import Rater, JokeRaterInterface\n",
    "\n",
    "rating_model = 'models/lstm_joke_rater_improved'\n",
    "rating_tokenizer = 'models/lstm_joke_rater_improved_tokenizer'\n",
    "lstm_rater = LSTMJokeRaterImproved(model_path=rating_model, tokenizer_path=rating_tokenizer, max_length=256)\n",
    "\n",
    "rater = Rater()\n",
    "rater.add_rater(lstm_rater)\n",
    "rater.add_rater(GPTJokeRater())\n",
    "print(rater.get_rating(\"Why don't scientists trust atoms? Because they make up everything!\"))\n"
   ]
  },
  {
   "cell_type": "code",
   "execution_count": null,
   "id": "ccc4d5cf",
   "metadata": {},
   "outputs": [],
   "source": []
  }
 ],
 "metadata": {
  "kernelspec": {
   "display_name": "Python 3 (ipykernel)",
   "language": "python",
   "name": "python3"
  },
  "language_info": {
   "codemirror_mode": {
    "name": "ipython",
    "version": 3
   },
   "file_extension": ".py",
   "mimetype": "text/x-python",
   "name": "python",
   "nbconvert_exporter": "python",
   "pygments_lexer": "ipython3",
   "version": "3.10.10"
  }
 },
 "nbformat": 4,
 "nbformat_minor": 5
}
